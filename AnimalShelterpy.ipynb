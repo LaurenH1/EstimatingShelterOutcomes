{
 "cells": [
  {
   "cell_type": "markdown",
   "metadata": {},
   "source": [
    "# Estimating Shelter Animal Outcomes Workbook"
   ]
  },
  {
   "cell_type": "markdown",
   "metadata": {},
   "source": [
    "In this workbook, I will use data from Austin Animal Shelter, Texas, to see if one can use classification and regression modelling in order to estimate the outcome of any dog or cat who finds themselves in a shelter."
   ]
  },
  {
   "cell_type": "markdown",
   "metadata": {},
   "source": [
    "I will start by importing all relevant libraries and files."
   ]
  },
  {
   "cell_type": "markdown",
   "metadata": {},
   "source": [
    "## Import"
   ]
  },
  {
   "cell_type": "code",
   "execution_count": 455,
   "metadata": {},
   "outputs": [],
   "source": [
    "## Import libraries\n",
    "\n",
    "import pandas as pd\n",
    "import numpy as np\n",
    "import re\n",
    "from sklearn.model_selection import train_test_split\n",
    "\n",
    "from sklearn import svm\n",
    "import sklearn.model_selection as model_selection\n",
    "from sklearn.metrics import accuracy_score, recall_score, precision_score\n",
    "from sklearn.metrics import f1_score\n",
    "from sklearn.svm import SVC\n",
    "from sklearn.ensemble import RandomForestRegressor\n",
    "from sklearn import metrics\n",
    "from sklearn.metrics import confusion_matrix\n",
    "from sklearn.linear_model import LinearRegression\n",
    "from sklearn.linear_model import LogisticRegression\n",
    "from sklearn.tree import DecisionTreeClassifier\n",
    "from sklearn.ensemble import RandomForestClassifier, ExtraTreesClassifier\n",
    "import statsmodels.api as sm\n",
    "from sklearn import linear_model\n",
    "from sklearn.preprocessing import PolynomialFeatures\n",
    "from sklearn.metrics import mean_squared_error, r2_score\n",
    "import matplotlib.pyplot as plt\n",
    "from sklearn.svm import SVR\n",
    "import seaborn as sns\n",
    "import datetime\n",
    "from statsmodels.stats.outliers_influence import variance_inflation_factor\n",
    "from sklearn.preprocessing import StandardScaler"
   ]
  },
  {
   "cell_type": "code",
   "execution_count": 456,
   "metadata": {},
   "outputs": [],
   "source": [
    "## Import csv's\n",
    "\n",
    "intake = pd.read_csv('Austin_Animal_Center_Intakes.csv')\n",
    "outcome = pd.read_csv('Austin_Animal_Center_Outcomes.csv')"
   ]
  },
  {
   "cell_type": "code",
   "execution_count": 457,
   "metadata": {},
   "outputs": [
    {
     "data": {
      "text/html": [
       "<div>\n",
       "<style scoped>\n",
       "    .dataframe tbody tr th:only-of-type {\n",
       "        vertical-align: middle;\n",
       "    }\n",
       "\n",
       "    .dataframe tbody tr th {\n",
       "        vertical-align: top;\n",
       "    }\n",
       "\n",
       "    .dataframe thead th {\n",
       "        text-align: right;\n",
       "    }\n",
       "</style>\n",
       "<table border=\"1\" class=\"dataframe\">\n",
       "  <thead>\n",
       "    <tr style=\"text-align: right;\">\n",
       "      <th></th>\n",
       "      <th>Animal ID</th>\n",
       "      <th>Name</th>\n",
       "      <th>DateTime</th>\n",
       "      <th>MonthYear</th>\n",
       "      <th>Found Location</th>\n",
       "      <th>Intake Type</th>\n",
       "      <th>Intake Condition</th>\n",
       "      <th>Animal Type</th>\n",
       "      <th>Sex upon Intake</th>\n",
       "      <th>Age upon Intake</th>\n",
       "      <th>Breed</th>\n",
       "      <th>Color</th>\n",
       "    </tr>\n",
       "  </thead>\n",
       "  <tbody>\n",
       "    <tr>\n",
       "      <th>0</th>\n",
       "      <td>A786884</td>\n",
       "      <td>*Brock</td>\n",
       "      <td>01/03/2019 04:19:00 PM</td>\n",
       "      <td>01/03/2019 04:19:00 PM</td>\n",
       "      <td>2501 Magin Meadow Dr in Austin (TX)</td>\n",
       "      <td>Stray</td>\n",
       "      <td>Normal</td>\n",
       "      <td>Dog</td>\n",
       "      <td>Neutered Male</td>\n",
       "      <td>2 years</td>\n",
       "      <td>Beagle Mix</td>\n",
       "      <td>Tricolor</td>\n",
       "    </tr>\n",
       "    <tr>\n",
       "      <th>1</th>\n",
       "      <td>A706918</td>\n",
       "      <td>Belle</td>\n",
       "      <td>07/05/2015 12:59:00 PM</td>\n",
       "      <td>07/05/2015 12:59:00 PM</td>\n",
       "      <td>9409 Bluegrass Dr in Austin (TX)</td>\n",
       "      <td>Stray</td>\n",
       "      <td>Normal</td>\n",
       "      <td>Dog</td>\n",
       "      <td>Spayed Female</td>\n",
       "      <td>8 years</td>\n",
       "      <td>English Springer Spaniel</td>\n",
       "      <td>White/Liver</td>\n",
       "    </tr>\n",
       "    <tr>\n",
       "      <th>2</th>\n",
       "      <td>A724273</td>\n",
       "      <td>Runster</td>\n",
       "      <td>04/14/2016 06:43:00 PM</td>\n",
       "      <td>04/14/2016 06:43:00 PM</td>\n",
       "      <td>2818 Palomino Trail in Austin (TX)</td>\n",
       "      <td>Stray</td>\n",
       "      <td>Normal</td>\n",
       "      <td>Dog</td>\n",
       "      <td>Intact Male</td>\n",
       "      <td>11 months</td>\n",
       "      <td>Basenji Mix</td>\n",
       "      <td>Sable/White</td>\n",
       "    </tr>\n",
       "    <tr>\n",
       "      <th>4</th>\n",
       "      <td>A682524</td>\n",
       "      <td>Rio</td>\n",
       "      <td>06/29/2014 10:38:00 AM</td>\n",
       "      <td>06/29/2014 10:38:00 AM</td>\n",
       "      <td>800 Grove Blvd in Austin (TX)</td>\n",
       "      <td>Stray</td>\n",
       "      <td>Normal</td>\n",
       "      <td>Dog</td>\n",
       "      <td>Neutered Male</td>\n",
       "      <td>4 years</td>\n",
       "      <td>Doberman Pinsch/Australian Cattle Dog</td>\n",
       "      <td>Tan/Gray</td>\n",
       "    </tr>\n",
       "    <tr>\n",
       "      <th>5</th>\n",
       "      <td>A743852</td>\n",
       "      <td>Odin</td>\n",
       "      <td>02/18/2017 12:46:00 PM</td>\n",
       "      <td>02/18/2017 12:46:00 PM</td>\n",
       "      <td>Austin (TX)</td>\n",
       "      <td>Owner Surrender</td>\n",
       "      <td>Normal</td>\n",
       "      <td>Dog</td>\n",
       "      <td>Neutered Male</td>\n",
       "      <td>2 years</td>\n",
       "      <td>Labrador Retriever Mix</td>\n",
       "      <td>Chocolate</td>\n",
       "    </tr>\n",
       "  </tbody>\n",
       "</table>\n",
       "</div>"
      ],
      "text/plain": [
       "  Animal ID     Name                DateTime               MonthYear  \\\n",
       "0   A786884   *Brock  01/03/2019 04:19:00 PM  01/03/2019 04:19:00 PM   \n",
       "1   A706918    Belle  07/05/2015 12:59:00 PM  07/05/2015 12:59:00 PM   \n",
       "2   A724273  Runster  04/14/2016 06:43:00 PM  04/14/2016 06:43:00 PM   \n",
       "4   A682524      Rio  06/29/2014 10:38:00 AM  06/29/2014 10:38:00 AM   \n",
       "5   A743852     Odin  02/18/2017 12:46:00 PM  02/18/2017 12:46:00 PM   \n",
       "\n",
       "                        Found Location      Intake Type Intake Condition  \\\n",
       "0  2501 Magin Meadow Dr in Austin (TX)            Stray           Normal   \n",
       "1     9409 Bluegrass Dr in Austin (TX)            Stray           Normal   \n",
       "2   2818 Palomino Trail in Austin (TX)            Stray           Normal   \n",
       "4        800 Grove Blvd in Austin (TX)            Stray           Normal   \n",
       "5                          Austin (TX)  Owner Surrender           Normal   \n",
       "\n",
       "  Animal Type Sex upon Intake Age upon Intake  \\\n",
       "0         Dog   Neutered Male         2 years   \n",
       "1         Dog   Spayed Female         8 years   \n",
       "2         Dog     Intact Male       11 months   \n",
       "4         Dog   Neutered Male         4 years   \n",
       "5         Dog   Neutered Male         2 years   \n",
       "\n",
       "                                   Breed        Color  \n",
       "0                             Beagle Mix     Tricolor  \n",
       "1               English Springer Spaniel  White/Liver  \n",
       "2                            Basenji Mix  Sable/White  \n",
       "4  Doberman Pinsch/Australian Cattle Dog     Tan/Gray  \n",
       "5                 Labrador Retriever Mix    Chocolate  "
      ]
     },
     "execution_count": 457,
     "metadata": {},
     "output_type": "execute_result"
    }
   ],
   "source": [
    "intake[intake['Animal Type'] == 'Dog'].head()"
   ]
  },
  {
   "cell_type": "code",
   "execution_count": 458,
   "metadata": {},
   "outputs": [
    {
     "data": {
      "text/plain": [
       "Adoption           59105\n",
       "Transfer           38376\n",
       "Return to Owner    22143\n",
       "Euthanasia          8776\n",
       "Died                1240\n",
       "Rto-Adopt            778\n",
       "Disposal             602\n",
       "Missing               70\n",
       "Relocate              25\n",
       "Name: Outcome Type, dtype: int64"
      ]
     },
     "execution_count": 458,
     "metadata": {},
     "output_type": "execute_result"
    }
   ],
   "source": [
    "outcome['Outcome Type'].value_counts()"
   ]
  },
  {
   "cell_type": "code",
   "execution_count": 459,
   "metadata": {},
   "outputs": [
    {
     "data": {
      "text/plain": [
       "Normal      113193\n",
       "Injured       7238\n",
       "Sick          5581\n",
       "Nursing       3948\n",
       "Aged           445\n",
       "Other          238\n",
       "Medical        128\n",
       "Feral          119\n",
       "Pregnant        86\n",
       "Neonatal        85\n",
       "Behavior        35\n",
       "Space            4\n",
       "Name: Intake Condition, dtype: int64"
      ]
     },
     "execution_count": 459,
     "metadata": {},
     "output_type": "execute_result"
    }
   ],
   "source": [
    "intake['Intake Condition'].value_counts()"
   ]
  },
  {
   "cell_type": "markdown",
   "metadata": {},
   "source": [
    "# Lists"
   ]
  },
  {
   "cell_type": "markdown",
   "metadata": {},
   "source": [
    "I will categorise a dogs breed, size and colour and a cats breed, pattern and colour. This will mean that each category will have multiple data points and will allow for better foresight as we can also include colours or breeds that have not yet visited the shelter into our model."
   ]
  },
  {
   "cell_type": "markdown",
   "metadata": {},
   "source": [
    "### Dog Categorised"
   ]
  },
  {
   "cell_type": "markdown",
   "metadata": {},
   "source": [
    "The dog breeds include: Companions, Herding dogs, Hounds, Terriers, Working dogs, Sporting dogs, Bully breed dogs and Racing dogs."
   ]
  },
  {
   "cell_type": "markdown",
   "metadata": {},
   "source": [
    "In order to decide which breed belongs in which category, I used a website called 'dogtime' (https://dogtime.com/dog-breeds/groups) to categorise the vast majority. But, I also noticed dogs like the boston terrier are closer in appearance and size to the english bulldog and pugs than terriers and hence belonged in companions. Also, I noticed there were a lot of working dogs, so I created the 'Bully breed' category. Bull breeds tend to have a negative reputation for being 'dangerous' and some are even banned in certain countries, hence I want to see what difference this makes to a dogs adoptability. "
   ]
  },
  {
   "cell_type": "code",
   "execution_count": 460,
   "metadata": {},
   "outputs": [],
   "source": [
    "## Dog breed lists\n",
    "\n",
    "Companions = ['Chow Chow','Alaskan Klee Kai', 'Mexican Hairless', 'Lowchen', 'Standard Poodle','Japanese Chin','Coton De Tulear', 'Cavalier Span','Bruss Griffon', 'Dachshund Stan', 'Old English Bulldog', 'Dalmatian', 'American Eskimo', 'Schipperke', 'Havanese', 'Keeshond', 'English Bulldog','Bulldog', 'Lhasa Apso','Eng Toy Spaniel','Chinese Crested','Dachshund Wirehair', 'Dachshund Longhair','Miniature Pinscher','Chihuahua Longhair','Maltese','Shih Tzu', 'Pekingese','Finnish Spitz', 'Papillon','Bichon Frise','Toy Poodle','Boston Terrier', 'Chihuahua Shorthair','Dachshund','Miniature Poodle','Pembroke Welsh Corgi','French Bulldog','Swedish Vallhund','Pug','Cardigan Welsh Corgi','Pomeranian','Shiba Inu',]\n",
    "Herding_dogs = ['Spanish Water Dog','Bouv Flandres', 'Belgian Tervuren', 'Beauceron', 'Entlebucher', 'Queensland Heeler','Canaan Dog', 'Briard', 'Australian Kelpie', 'Dutch Sheepdog', 'English Shepherd', 'Dutch Shepherd', 'Belgian Sheepdog','Shetland Sheepdog','Picardy Sheepdog', 'German Shepherd','Belgian Malinois', 'Bearded Collie','Collie Rough','Border Collie',  'Australian Shepherd','Australian Cattle Dog','Collie Smooth','Old English Sheepdog', ]\n",
    "Hound_dogs = ['Irish Wolfhound', 'Rhod Ridgeback', 'Grand Basset Griffon Vendeen', 'Otterhound', 'Pbgv', 'Harrier', 'Podengo Pequeno','Norwegian Elkhound', 'Basenji', 'Swiss Hound', 'English Coonhound','Afghan Hound','Pharaoh Hound','Ibizan Hound', 'English Foxhound', 'American Foxhound', 'Treeing Walker Coonhound','Basset Hound', 'Beagle','Plott Hound','Redbone Hound','Bloodhound','Bluetick Hound',]\n",
    "Terriers = ['Dandie Dinmont','Glen Of Imaal', 'Affenpinscher','Feist','Lakeland Terrier','Bedlington Terr', 'Sealyham Terr','Australian Terrier', 'Toy Fox Terrier', 'Smooth Fox Terrier','Airedale Terrier','Patterdale Terr','Wire Hair Fox Terrier', 'West Highland','Soft Coated Wheaten Terrier', 'Rat Terrier','Welsh Terrier', 'Skye Terrier','Parson Russell Terrier','Scottish Terrier','Tibetan Terrier','Border Terrier','Cairn Terrier','Yorkshire Terrier','Miniature Schnauzer','Norfolk Terrier','Jack Russell Terrier','Irish Terrier', 'Manchester Terrier', 'Silky Terrier','Norwich Terrier', ]\n",
    "Working_dogs = ['Boxer','Schnauzer Giant','Great Pyrenees', 'Great Dane', 'Newfoundland', 'St. Bernard Smooth Coat','St. Bernard Rough Coat', 'Leonberger', 'Landseer','Kangal', 'Hovawart', 'Akbash','Treeing Tennesse Brindle', 'Treeing Cur','Jindo', 'Port Water Dog','Catahoula', 'Kuvasz', 'Carolina Dog', 'Blue Lacy','Samoyed', 'Greater Swiss Mountain Dog','German Pinscher', 'Chinese Sharpei', 'Anatol Shepherd','Bernese Mountain Dog', 'Standard Schnauzer','Akita', 'Alaskan Malamute','Alaskan Husky','Siberian Husky',]\n",
    "Sporting_dogs = ['Weimaraner','Boykin Span','Sussex Span', 'Black Mouth Cur','Chesa Bay Retr', 'Wirehaired Pointing Griffon','Spinone Italiano', 'Wirehaired Vizsla','Clumber Spaniel','English Cocker Spaniel', 'Irish Setter', 'Field Spaniel','Tibetan Spaniel', 'Gordon Setter', 'Welsh Springer Spaniel','German Wirehaired Pointer','German Shorthair Pointer','Brittany', 'English Setter', 'English Pointer','Cocker Spaniel', 'English Springer Spaniel', 'Golden Retriever', 'Pointer', 'Flat Coat Retriever','Vizsla','Nova Scotia Duck Tolling Retriever','Labrador Retriever', ]\n",
    "Bully_breeds = ['Presa Canario', 'Boerboel', 'Neapolitan Mastiff','Spanish Mastiff','American Bulldog','Bullmastiff', 'Bull Terrier Miniature', 'Dogo Argentino','Tibetan Mastiff','Doberman Pinsch', 'Bull Terrier', 'Mastiff','Staffordshire','Rottweiler','American Staffordshire Terrier', 'American Pit Bull Terrier','Pit Bull','Cane Corso','Dogue De Bordeaux',]\n",
    "Racing_dogs = ['Saluki','Greyhound','Whippet','Italian Greyhound',]"
   ]
  },
  {
   "cell_type": "markdown",
   "metadata": {},
   "source": [
    "The dog size categories are: toy, small, medium, large and giant."
   ]
  },
  {
   "cell_type": "markdown",
   "metadata": {},
   "source": [
    "These dogs are categorised by weight, with some moving a size up due to their height differences of dogs with the same weight."
   ]
  },
  {
   "cell_type": "code",
   "execution_count": 461,
   "metadata": {},
   "outputs": [],
   "source": [
    "## Dog breed sizes\n",
    "\n",
    "toy = ['Tibetan Spaniel', 'Patterdale Terr', 'Norwich Terrier', 'Silky Terrier','Jack Russell Terrier','Norfolk Terrier','Miniature Schnauzer','Cairn Terrier','Yorkshire Terrier','Border Terrier','Parson Russell Terrier','West Highland','Wire Hair Fox Terrier', 'Smooth Fox Terrier','Australian Terrier', 'Toy Fox Terrier', 'Sealyham Terr','Lakeland Terrier','Affenpinscher','Pug', 'Pomeranian','Chihuahua Shorthair','Dachshund','Toy Poodle','Bichon Frise','Papillon','Shih Tzu', 'Pekingese','Maltese','Lhasa Apso','Eng Toy Spaniel','Chinese Crested','Dachshund Wirehair', 'Dachshund Longhair','Miniature Pinscher', 'Bruss Griffon', 'Dachshund Stan', 'Cavalier Span','Coton De Tulear', 'Japanese Chin','Chihuahua Longhair', 'Lowchen',]\n",
    "small = ['Italian Greyhound','Cocker Spaniel', 'Manchester Terrier', 'Irish Terrier', 'Tibetan Terrier','Scottish Terrier','Skye Terrier','Welsh Terrier', 'Rat Terrier','Bedlington Terr', 'Feist','Dandie Dinmont','Beagle','Basenji', 'Shetland Sheepdog','Shiba Inu','Swedish Vallhund','French Bulldog','Cardigan Welsh Corgi','Pembroke Welsh Corgi','Miniature Poodle','Boston Terrier', 'Finnish Spitz', 'Havanese', 'Schipperke', 'American Eskimo', 'Alaskan Klee Kai', ]\n",
    "medium = ['Whippet','American Staffordshire Terrier', 'Staffordshire','Bull Terrier Miniature', 'Nova Scotia Duck Tolling Retriever','English Springer Spaniel', 'Brittany', 'Welsh Springer Spaniel','Field Spaniel','English Cocker Spaniel', 'Sussex Span', 'Boykin Span','Standard Schnauzer','Chinese Sharpei', 'German Pinscher', 'Blue Lacy','Carolina Dog', 'Jindo', 'Treeing Cur','Treeing Tennesse Brindle', 'Soft Coated Wheaten Terrier','Glen Of Imaal', 'Basset Hound', 'Ibizan Hound', 'Pharaoh Hound','Swiss Hound', 'Norwegian Elkhound', 'Pbgv', 'Grand Basset Griffon Vendeen', 'Border Collie',  'Australian Shepherd', 'Australian Kelpie', 'Canaan Dog', 'Australian Cattle Dog','Queensland Heeler','Spanish Water Dog','Keeshond',  'Old English Bulldog', 'English Bulldog','Bulldog', 'Mexican Hairless',]\n",
    "large = ['Greyhound','Saluki','American Pit Bull Terrier','Pit Bull','Bull Terrier', 'Doberman Pinsch', 'Dogo Argentino', 'Chow Chow','Boxer','Schnauzer Giant','Weimaraner','Rhod Ridgeback', 'Labrador Retriever', 'Flat Coat Retriever', 'Pointer', 'Golden Retriever', 'English Pointer','English Setter', 'German Shorthair Pointer','German Wirehaired Pointer','Gordon Setter', 'Irish Setter','Clumber Spaniel','Vizsla','Wirehaired Vizsla','Spinone Italiano', 'Wirehaired Pointing Griffon','Chesa Bay Retr', 'Black Mouth Cur','Alaskan Malamute','Alaskan Husky','Siberian Husky','Akita', 'Samoyed', 'Catahoula', 'Port Water Dog','Hovawart', 'Airedale Terrier','Bluetick Hound','Bloodhound','Redbone Hound','Plott Hound','Treeing Walker Coonhound','American Foxhound', 'English Foxhound', 'Afghan Hound','English Coonhound','Podengo Pequeno','Harrier', 'Collie Smooth','Old English Sheepdog', 'Bearded Collie','Collie Rough','Picardy Sheepdog','Belgian Sheepdog','Dutch Shepherd', 'English Shepherd', 'Dutch Sheepdog', 'German Shepherd','Belgian Malinois', 'Briard', 'Entlebucher', 'Beauceron', 'Belgian Tervuren', 'Bouv Flandres', 'Standard Poodle','Dalmatian',]\n",
    "giant = ['Cane Corso','Dogue De Bordeaux','Rottweiler','Mastiff','American Bulldog','Bullmastiff', 'Tibetan Mastiff','Boerboel', 'Neapolitan Mastiff','Spanish Mastiff','Presa Canario', 'Irish Wolfhound', 'Great Dane', 'Newfoundland', 'Great Pyrenees', 'St. Bernard Smooth Coat','St. Bernard Rough Coat', 'Leonberger', 'Landseer','Kangal', 'Bernese Mountain Dog', 'Anatol Shepherd','Greater Swiss Mountain Dog','Kuvasz', 'Akbash','Otterhound', ]"
   ]
  },
  {
   "cell_type": "markdown",
   "metadata": {},
   "source": [
    "The dog colour categories are: dark, light, red-orange, blue-grey and merle."
   ]
  },
  {
   "cell_type": "markdown",
   "metadata": {},
   "source": [
    "Dark and light are dogs who do not fit in the other categories and hence depend on which side of the colour spectrum they fit."
   ]
  },
  {
   "cell_type": "code",
   "execution_count": 462,
   "metadata": {},
   "outputs": [],
   "source": [
    "## Dog color lists\n",
    "\n",
    "dark_dog = ['Black Tiger','Black', 'Brown', 'Brown Brindle', 'Tricolor','Chocolate','Brown Tiger','Black Smoke',  'Yellow Brindle', 'Black Brindle']\n",
    "light_dog = ['White','Cream', 'Tan', 'Sable', 'Fawn', 'Yellow','Buff']\n",
    "red_orange_dog = ['Ruddy','Gold', 'Red', 'Liver', 'Apricot','Red Tick', 'Orange','Liver Tick']\n",
    "blue_grey_dog = ['Agouti','Blue', 'Gray', 'Silver', 'Blue Tick', 'Blue Smoke', 'Blue Cream', 'Blue Tiger']\n",
    "merle_dog = ['Blue Merle', 'Red Merle', 'Brown Merle','Calico']"
   ]
  },
  {
   "cell_type": "markdown",
   "metadata": {},
   "source": [
    "### Cat Categorised"
   ]
  },
  {
   "cell_type": "markdown",
   "metadata": {},
   "source": [
    "The cat colour categories are: dark, light, red-orange, blue-grey and black-orange-white (category created for torties and calicos)."
   ]
  },
  {
   "cell_type": "code",
   "execution_count": 463,
   "metadata": {},
   "outputs": [],
   "source": [
    "## Cat color lists\n",
    "\n",
    "dark_cat = ['Black', 'Brown', 'Black Smoke', 'Chocolate', 'Sable' ]\n",
    "light_cat = ['Fawn', 'White', 'Cream', 'Seal', 'Lynx', 'Flame', 'Buff','Tan' ]\n",
    "red_orange_cat = ['Red Tick','Orange', 'Yellow','Agouti', 'Red' ,'Apricot', 'Pink' ]\n",
    "blue_grey_cat = ['Blue', 'Gray','Blue Cream', 'Lilac', 'Silver', 'Silver Lynx', 'Blue Smoke' ]\n",
    "black_orange_white_cat = [ 'Tortie','Calico','Torbie','Tricolor']"
   ]
  },
  {
   "cell_type": "markdown",
   "metadata": {},
   "source": [
    "The cat breed categories are: short hair, long hair and hairless."
   ]
  },
  {
   "cell_type": "markdown",
   "metadata": {},
   "source": [
    "Cat breeds are harder to categorise as they are not as different as dog breeds. The differences in breeds tend to be mostly in colour, pattern (which both have their own category, we will see pattern later), face shape and fur length. I decided to categorise cat breeds based on their fur length."
   ]
  },
  {
   "cell_type": "code",
   "execution_count": 464,
   "metadata": {},
   "outputs": [],
   "source": [
    "## Cat breed lists\n",
    "\n",
    "short_hair = ['Ocicat','Havana Brown', 'Colorpoint','American Wirehair', 'Oriental Sh','Scottish Fold', 'Bombay', 'Cornish Rex','Burmese', 'Siamese', 'Japanese Bobtail', 'Chartreux', 'Devon Rex','Bengal','Tonkinese', 'Abyssinian', 'Munchkin Shorthair', 'Exotic Shorthair', 'British Shorthair','American Curl Shorthair', 'Pixiebob Shorthair', 'Snowshoe', 'Domestic Shorthair', 'American Shorthair', 'Russian Blue','Manx']\n",
    "long_hair = ['Javanese', 'Cymric','Angora','Balinese', 'Persian', 'Birman', 'Ragdoll', 'Turkish Angora', 'Maine Coon', 'Domestic Medium Hair','Norwegian Forest Cat', 'Himalayan','Turkish Van', 'Balinese', 'Domestic Longhair', 'Munchkin Longhair']\n",
    "hairless = ['Sphynx']"
   ]
  },
  {
   "cell_type": "markdown",
   "metadata": {},
   "source": [
    "# Checking data"
   ]
  },
  {
   "cell_type": "code",
   "execution_count": 465,
   "metadata": {},
   "outputs": [
    {
     "data": {
      "text/plain": [
       "Domestic Shorthair Mix                   31823\n",
       "Domestic Shorthair                        8922\n",
       "Pit Bull Mix                              8700\n",
       "Labrador Retriever Mix                    7122\n",
       "Chihuahua Shorthair Mix                   6371\n",
       "                                         ...  \n",
       "Australian Shepherd/Australian Kelpie        1\n",
       "Pug/Miniature Pinscher                       1\n",
       "Bruss Griffon/Chihuahua Longhair             1\n",
       "Chihuahua Longhair/Italian Greyhound         1\n",
       "Silkie Mix                                   1\n",
       "Name: Breed, Length: 2684, dtype: int64"
      ]
     },
     "execution_count": 465,
     "metadata": {},
     "output_type": "execute_result"
    }
   ],
   "source": [
    "outcome['Breed'].value_counts()"
   ]
  },
  {
   "cell_type": "code",
   "execution_count": 466,
   "metadata": {},
   "outputs": [
    {
     "data": {
      "text/plain": [
       "Dog          73810\n",
       "Cat          49648\n",
       "Other         7004\n",
       "Bird           614\n",
       "Livestock       24\n",
       "Name: Animal Type, dtype: int64"
      ]
     },
     "execution_count": 466,
     "metadata": {},
     "output_type": "execute_result"
    }
   ],
   "source": [
    "intake['Animal Type'].value_counts()"
   ]
  },
  {
   "cell_type": "code",
   "execution_count": 467,
   "metadata": {},
   "outputs": [
    {
     "data": {
      "text/html": [
       "<div>\n",
       "<style scoped>\n",
       "    .dataframe tbody tr th:only-of-type {\n",
       "        vertical-align: middle;\n",
       "    }\n",
       "\n",
       "    .dataframe tbody tr th {\n",
       "        vertical-align: top;\n",
       "    }\n",
       "\n",
       "    .dataframe thead th {\n",
       "        text-align: right;\n",
       "    }\n",
       "</style>\n",
       "<table border=\"1\" class=\"dataframe\">\n",
       "  <thead>\n",
       "    <tr style=\"text-align: right;\">\n",
       "      <th></th>\n",
       "      <th>Animal ID</th>\n",
       "      <th>Name</th>\n",
       "      <th>DateTime</th>\n",
       "      <th>MonthYear</th>\n",
       "      <th>Date of Birth</th>\n",
       "      <th>Outcome Type</th>\n",
       "      <th>Outcome Subtype</th>\n",
       "      <th>Animal Type</th>\n",
       "      <th>Sex upon Outcome</th>\n",
       "      <th>Age upon Outcome</th>\n",
       "      <th>Breed</th>\n",
       "      <th>Color</th>\n",
       "    </tr>\n",
       "  </thead>\n",
       "  <tbody>\n",
       "    <tr>\n",
       "      <th>0</th>\n",
       "      <td>A794011</td>\n",
       "      <td>Chunk</td>\n",
       "      <td>05/08/2019 06:20:00 PM</td>\n",
       "      <td>05/08/2019 06:20:00 PM</td>\n",
       "      <td>05/02/2017</td>\n",
       "      <td>Rto-Adopt</td>\n",
       "      <td>NaN</td>\n",
       "      <td>Cat</td>\n",
       "      <td>Neutered Male</td>\n",
       "      <td>2 years</td>\n",
       "      <td>Domestic Shorthair Mix</td>\n",
       "      <td>Brown Tabby/White</td>\n",
       "    </tr>\n",
       "    <tr>\n",
       "      <th>1</th>\n",
       "      <td>A776359</td>\n",
       "      <td>Gizmo</td>\n",
       "      <td>07/18/2018 04:02:00 PM</td>\n",
       "      <td>07/18/2018 04:02:00 PM</td>\n",
       "      <td>07/12/2017</td>\n",
       "      <td>Adoption</td>\n",
       "      <td>NaN</td>\n",
       "      <td>Dog</td>\n",
       "      <td>Neutered Male</td>\n",
       "      <td>1 year</td>\n",
       "      <td>Chihuahua Shorthair Mix</td>\n",
       "      <td>White/Brown</td>\n",
       "    </tr>\n",
       "    <tr>\n",
       "      <th>2</th>\n",
       "      <td>A821648</td>\n",
       "      <td>NaN</td>\n",
       "      <td>08/16/2020 11:38:00 AM</td>\n",
       "      <td>08/16/2020 11:38:00 AM</td>\n",
       "      <td>08/16/2019</td>\n",
       "      <td>Euthanasia</td>\n",
       "      <td>NaN</td>\n",
       "      <td>Other</td>\n",
       "      <td>Unknown</td>\n",
       "      <td>1 year</td>\n",
       "      <td>Raccoon</td>\n",
       "      <td>Gray</td>\n",
       "    </tr>\n",
       "    <tr>\n",
       "      <th>3</th>\n",
       "      <td>A720371</td>\n",
       "      <td>Moose</td>\n",
       "      <td>02/13/2016 05:59:00 PM</td>\n",
       "      <td>02/13/2016 05:59:00 PM</td>\n",
       "      <td>10/08/2015</td>\n",
       "      <td>Adoption</td>\n",
       "      <td>NaN</td>\n",
       "      <td>Dog</td>\n",
       "      <td>Neutered Male</td>\n",
       "      <td>4 months</td>\n",
       "      <td>Anatol Shepherd/Labrador Retriever</td>\n",
       "      <td>Buff</td>\n",
       "    </tr>\n",
       "    <tr>\n",
       "      <th>4</th>\n",
       "      <td>A674754</td>\n",
       "      <td>NaN</td>\n",
       "      <td>03/18/2014 11:47:00 AM</td>\n",
       "      <td>03/18/2014 11:47:00 AM</td>\n",
       "      <td>03/12/2014</td>\n",
       "      <td>Transfer</td>\n",
       "      <td>Partner</td>\n",
       "      <td>Cat</td>\n",
       "      <td>Intact Male</td>\n",
       "      <td>6 days</td>\n",
       "      <td>Domestic Shorthair Mix</td>\n",
       "      <td>Orange Tabby</td>\n",
       "    </tr>\n",
       "  </tbody>\n",
       "</table>\n",
       "</div>"
      ],
      "text/plain": [
       "  Animal ID   Name                DateTime               MonthYear  \\\n",
       "0   A794011  Chunk  05/08/2019 06:20:00 PM  05/08/2019 06:20:00 PM   \n",
       "1   A776359  Gizmo  07/18/2018 04:02:00 PM  07/18/2018 04:02:00 PM   \n",
       "2   A821648    NaN  08/16/2020 11:38:00 AM  08/16/2020 11:38:00 AM   \n",
       "3   A720371  Moose  02/13/2016 05:59:00 PM  02/13/2016 05:59:00 PM   \n",
       "4   A674754    NaN  03/18/2014 11:47:00 AM  03/18/2014 11:47:00 AM   \n",
       "\n",
       "  Date of Birth Outcome Type Outcome Subtype Animal Type Sex upon Outcome  \\\n",
       "0    05/02/2017    Rto-Adopt             NaN         Cat    Neutered Male   \n",
       "1    07/12/2017     Adoption             NaN         Dog    Neutered Male   \n",
       "2    08/16/2019   Euthanasia             NaN       Other          Unknown   \n",
       "3    10/08/2015     Adoption             NaN         Dog    Neutered Male   \n",
       "4    03/12/2014     Transfer         Partner         Cat      Intact Male   \n",
       "\n",
       "  Age upon Outcome                               Breed              Color  \n",
       "0          2 years              Domestic Shorthair Mix  Brown Tabby/White  \n",
       "1           1 year             Chihuahua Shorthair Mix        White/Brown  \n",
       "2           1 year                             Raccoon               Gray  \n",
       "3         4 months  Anatol Shepherd/Labrador Retriever               Buff  \n",
       "4           6 days              Domestic Shorthair Mix       Orange Tabby  "
      ]
     },
     "execution_count": 467,
     "metadata": {},
     "output_type": "execute_result"
    }
   ],
   "source": [
    "outcome.head()"
   ]
  },
  {
   "cell_type": "markdown",
   "metadata": {},
   "source": [
    "# Dog cat split"
   ]
  },
  {
   "cell_type": "markdown",
   "metadata": {},
   "source": [
    "I will now split dog and cat intakes and outcomes into their own lists. This will allow me to clean and prepare them separately, ready for modelling."
   ]
  },
  {
   "cell_type": "code",
   "execution_count": 468,
   "metadata": {},
   "outputs": [],
   "source": [
    "intake_dog = intake[intake['Animal Type'] == 'Dog']\n",
    "outcome_dog = outcome[outcome['Animal Type'] == 'Dog']\n",
    "intake_cat = intake[intake['Animal Type'] == 'Cat']\n",
    "outcome_cat = outcome[outcome['Animal Type'] == 'Cat']"
   ]
  },
  {
   "cell_type": "code",
   "execution_count": 469,
   "metadata": {},
   "outputs": [
    {
     "data": {
      "text/plain": [
       "Adoption           23077\n",
       "Transfer           21229\n",
       "Return to Owner     2295\n",
       "Euthanasia          2056\n",
       "Died                 738\n",
       "Rto-Adopt            164\n",
       "Disposal              84\n",
       "Missing               35\n",
       "Relocate               4\n",
       "Name: Outcome Type, dtype: int64"
      ]
     },
     "execution_count": 469,
     "metadata": {},
     "output_type": "execute_result"
    }
   ],
   "source": [
    "outcome_cat['Outcome Type'].value_counts()"
   ]
  },
  {
   "cell_type": "markdown",
   "metadata": {},
   "source": [
    "## Prior Cleaning EDA"
   ]
  },
  {
   "cell_type": "markdown",
   "metadata": {},
   "source": [
    "I checked the data to see if any null values or anything that could cause issues could be present in the datasets."
   ]
  },
  {
   "cell_type": "markdown",
   "metadata": {},
   "source": [
    "### Intake"
   ]
  },
  {
   "cell_type": "markdown",
   "metadata": {},
   "source": [
    "Name is not important for modelling and hence this column will be removed. There is only one null in sex upon intake, so this will be removed in cleaning."
   ]
  },
  {
   "cell_type": "code",
   "execution_count": 470,
   "metadata": {},
   "outputs": [
    {
     "data": {
      "text/plain": [
       "Animal ID               0\n",
       "Name                40308\n",
       "DateTime                0\n",
       "MonthYear               0\n",
       "Found Location          0\n",
       "Intake Type             0\n",
       "Intake Condition        0\n",
       "Animal Type             0\n",
       "Sex upon Intake         1\n",
       "Age upon Intake         0\n",
       "Breed                   0\n",
       "Color                   0\n",
       "dtype: int64"
      ]
     },
     "execution_count": 470,
     "metadata": {},
     "output_type": "execute_result"
    }
   ],
   "source": [
    "## Check for nulls\n",
    "\n",
    "intake.isna().sum()"
   ]
  },
  {
   "cell_type": "markdown",
   "metadata": {},
   "source": [
    "### Outcome"
   ]
  },
  {
   "cell_type": "markdown",
   "metadata": {},
   "source": [
    "Although there appears to be a lot of nulls in the outcome dataset, we will not be using the 'outcome subtype' column and will remove the rest of the nulls in the cleaning section."
   ]
  },
  {
   "cell_type": "code",
   "execution_count": 610,
   "metadata": {},
   "outputs": [
    {
     "data": {
      "text/plain": [
       "Animal ID               0\n",
       "Name                40252\n",
       "DateTime                0\n",
       "MonthYear               0\n",
       "Date of Birth           0\n",
       "Outcome Type           24\n",
       "Outcome Subtype     70829\n",
       "Animal Type             0\n",
       "Sex upon Outcome        1\n",
       "Age upon Outcome       13\n",
       "Breed                   0\n",
       "Color                   0\n",
       "dtype: int64"
      ]
     },
     "execution_count": 610,
     "metadata": {},
     "output_type": "execute_result"
    }
   ],
   "source": [
    "outcome.isna().sum()"
   ]
  },
  {
   "cell_type": "markdown",
   "metadata": {},
   "source": [
    "Through this, I learned that one animal can return to a shelter multiple times, which can cause problems when merging the intake and outcome datasets. As you can see below, one animal has returned to the Austin Animal Shelter 33 times."
   ]
  },
  {
   "cell_type": "code",
   "execution_count": 471,
   "metadata": {},
   "outputs": [
    {
     "data": {
      "text/html": [
       "<div>\n",
       "<style scoped>\n",
       "    .dataframe tbody tr th:only-of-type {\n",
       "        vertical-align: middle;\n",
       "    }\n",
       "\n",
       "    .dataframe tbody tr th {\n",
       "        vertical-align: top;\n",
       "    }\n",
       "\n",
       "    .dataframe thead th {\n",
       "        text-align: right;\n",
       "    }\n",
       "</style>\n",
       "<table border=\"1\" class=\"dataframe\">\n",
       "  <thead>\n",
       "    <tr style=\"text-align: right;\">\n",
       "      <th></th>\n",
       "      <th>Name</th>\n",
       "      <th>DateTime</th>\n",
       "      <th>MonthYear</th>\n",
       "      <th>Found Location</th>\n",
       "      <th>Intake Type</th>\n",
       "      <th>Intake Condition</th>\n",
       "      <th>Animal Type</th>\n",
       "      <th>Sex upon Intake</th>\n",
       "      <th>Age upon Intake</th>\n",
       "      <th>Breed</th>\n",
       "      <th>Color</th>\n",
       "    </tr>\n",
       "    <tr>\n",
       "      <th>Animal ID</th>\n",
       "      <th></th>\n",
       "      <th></th>\n",
       "      <th></th>\n",
       "      <th></th>\n",
       "      <th></th>\n",
       "      <th></th>\n",
       "      <th></th>\n",
       "      <th></th>\n",
       "      <th></th>\n",
       "      <th></th>\n",
       "      <th></th>\n",
       "    </tr>\n",
       "  </thead>\n",
       "  <tbody>\n",
       "    <tr>\n",
       "      <th>A721033</th>\n",
       "      <td>33</td>\n",
       "      <td>33</td>\n",
       "      <td>33</td>\n",
       "      <td>33</td>\n",
       "      <td>33</td>\n",
       "      <td>33</td>\n",
       "      <td>33</td>\n",
       "      <td>33</td>\n",
       "      <td>33</td>\n",
       "      <td>33</td>\n",
       "      <td>33</td>\n",
       "    </tr>\n",
       "    <tr>\n",
       "      <th>A718223</th>\n",
       "      <td>14</td>\n",
       "      <td>14</td>\n",
       "      <td>14</td>\n",
       "      <td>14</td>\n",
       "      <td>14</td>\n",
       "      <td>14</td>\n",
       "      <td>14</td>\n",
       "      <td>14</td>\n",
       "      <td>14</td>\n",
       "      <td>14</td>\n",
       "      <td>14</td>\n",
       "    </tr>\n",
       "    <tr>\n",
       "      <th>A718877</th>\n",
       "      <td>12</td>\n",
       "      <td>12</td>\n",
       "      <td>12</td>\n",
       "      <td>12</td>\n",
       "      <td>12</td>\n",
       "      <td>12</td>\n",
       "      <td>12</td>\n",
       "      <td>12</td>\n",
       "      <td>12</td>\n",
       "      <td>12</td>\n",
       "      <td>12</td>\n",
       "    </tr>\n",
       "    <tr>\n",
       "      <th>A706536</th>\n",
       "      <td>11</td>\n",
       "      <td>11</td>\n",
       "      <td>11</td>\n",
       "      <td>11</td>\n",
       "      <td>11</td>\n",
       "      <td>11</td>\n",
       "      <td>11</td>\n",
       "      <td>11</td>\n",
       "      <td>11</td>\n",
       "      <td>11</td>\n",
       "      <td>11</td>\n",
       "    </tr>\n",
       "    <tr>\n",
       "      <th>A717053</th>\n",
       "      <td>9</td>\n",
       "      <td>9</td>\n",
       "      <td>9</td>\n",
       "      <td>9</td>\n",
       "      <td>9</td>\n",
       "      <td>9</td>\n",
       "      <td>9</td>\n",
       "      <td>9</td>\n",
       "      <td>9</td>\n",
       "      <td>9</td>\n",
       "      <td>9</td>\n",
       "    </tr>\n",
       "  </tbody>\n",
       "</table>\n",
       "</div>"
      ],
      "text/plain": [
       "           Name  DateTime  MonthYear  Found Location  Intake Type  \\\n",
       "Animal ID                                                           \n",
       "A721033      33        33         33              33           33   \n",
       "A718223      14        14         14              14           14   \n",
       "A718877      12        12         12              12           12   \n",
       "A706536      11        11         11              11           11   \n",
       "A717053       9         9          9               9            9   \n",
       "\n",
       "           Intake Condition  Animal Type  Sex upon Intake  Age upon Intake  \\\n",
       "Animal ID                                                                    \n",
       "A721033                  33           33               33               33   \n",
       "A718223                  14           14               14               14   \n",
       "A718877                  12           12               12               12   \n",
       "A706536                  11           11               11               11   \n",
       "A717053                   9            9                9                9   \n",
       "\n",
       "           Breed  Color  \n",
       "Animal ID                \n",
       "A721033       33     33  \n",
       "A718223       14     14  \n",
       "A718877       12     12  \n",
       "A706536       11     11  \n",
       "A717053        9      9  "
      ]
     },
     "execution_count": 471,
     "metadata": {},
     "output_type": "execute_result"
    }
   ],
   "source": [
    "## Some animals have escaped and returned multiple times\n",
    "\n",
    "dupes = intake.groupby('Animal ID').count().sort_values('DateTime', ascending = False)\n",
    "dupes[dupes['DateTime']>1].head()"
   ]
  },
  {
   "cell_type": "code",
   "execution_count": 472,
   "metadata": {},
   "outputs": [
    {
     "data": {
      "text/html": [
       "<div>\n",
       "<style scoped>\n",
       "    .dataframe tbody tr th:only-of-type {\n",
       "        vertical-align: middle;\n",
       "    }\n",
       "\n",
       "    .dataframe tbody tr th {\n",
       "        vertical-align: top;\n",
       "    }\n",
       "\n",
       "    .dataframe thead th {\n",
       "        text-align: right;\n",
       "    }\n",
       "</style>\n",
       "<table border=\"1\" class=\"dataframe\">\n",
       "  <thead>\n",
       "    <tr style=\"text-align: right;\">\n",
       "      <th></th>\n",
       "      <th>Animal ID</th>\n",
       "      <th>Name</th>\n",
       "      <th>DateTime</th>\n",
       "      <th>MonthYear</th>\n",
       "      <th>Found Location</th>\n",
       "      <th>Intake Type</th>\n",
       "      <th>Intake Condition</th>\n",
       "      <th>Animal Type</th>\n",
       "      <th>Sex upon Intake</th>\n",
       "      <th>Age upon Intake</th>\n",
       "      <th>Breed</th>\n",
       "      <th>Color</th>\n",
       "    </tr>\n",
       "  </thead>\n",
       "  <tbody>\n",
       "    <tr>\n",
       "      <th>19368</th>\n",
       "      <td>A664093</td>\n",
       "      <td>Katrina</td>\n",
       "      <td>10/13/2013 01:53:00 PM</td>\n",
       "      <td>10/13/2013 01:53:00 PM</td>\n",
       "      <td>Outside Jurisdiction</td>\n",
       "      <td>Owner Surrender</td>\n",
       "      <td>Normal</td>\n",
       "      <td>Dog</td>\n",
       "      <td>Spayed Female</td>\n",
       "      <td>5 years</td>\n",
       "      <td>Rottweiler Mix</td>\n",
       "      <td>Black/Tan</td>\n",
       "    </tr>\n",
       "  </tbody>\n",
       "</table>\n",
       "</div>"
      ],
      "text/plain": [
       "      Animal ID     Name                DateTime               MonthYear  \\\n",
       "19368   A664093  Katrina  10/13/2013 01:53:00 PM  10/13/2013 01:53:00 PM   \n",
       "\n",
       "             Found Location      Intake Type Intake Condition Animal Type  \\\n",
       "19368  Outside Jurisdiction  Owner Surrender           Normal         Dog   \n",
       "\n",
       "      Sex upon Intake Age upon Intake           Breed      Color  \n",
       "19368   Spayed Female         5 years  Rottweiler Mix  Black/Tan  "
      ]
     },
     "execution_count": 472,
     "metadata": {},
     "output_type": "execute_result"
    }
   ],
   "source": [
    "intake[intake['Animal ID']=='A664093'].head()"
   ]
  },
  {
   "cell_type": "code",
   "execution_count": 473,
   "metadata": {},
   "outputs": [
    {
     "data": {
      "text/html": [
       "<div>\n",
       "<style scoped>\n",
       "    .dataframe tbody tr th:only-of-type {\n",
       "        vertical-align: middle;\n",
       "    }\n",
       "\n",
       "    .dataframe tbody tr th {\n",
       "        vertical-align: top;\n",
       "    }\n",
       "\n",
       "    .dataframe thead th {\n",
       "        text-align: right;\n",
       "    }\n",
       "</style>\n",
       "<table border=\"1\" class=\"dataframe\">\n",
       "  <thead>\n",
       "    <tr style=\"text-align: right;\">\n",
       "      <th></th>\n",
       "      <th>Animal ID</th>\n",
       "      <th>Name</th>\n",
       "      <th>DateTime</th>\n",
       "      <th>MonthYear</th>\n",
       "      <th>Date of Birth</th>\n",
       "      <th>Outcome Type</th>\n",
       "      <th>Outcome Subtype</th>\n",
       "      <th>Animal Type</th>\n",
       "      <th>Sex upon Outcome</th>\n",
       "      <th>Age upon Outcome</th>\n",
       "      <th>Breed</th>\n",
       "      <th>Color</th>\n",
       "    </tr>\n",
       "  </thead>\n",
       "  <tbody>\n",
       "    <tr>\n",
       "      <th>69876</th>\n",
       "      <td>A664093</td>\n",
       "      <td>Katrina</td>\n",
       "      <td>10/10/2013 12:31:00 PM</td>\n",
       "      <td>10/10/2013 12:31:00 PM</td>\n",
       "      <td>09/29/2008</td>\n",
       "      <td>Adoption</td>\n",
       "      <td>NaN</td>\n",
       "      <td>Dog</td>\n",
       "      <td>Spayed Female</td>\n",
       "      <td>5 years</td>\n",
       "      <td>Rottweiler Mix</td>\n",
       "      <td>Black/Tan</td>\n",
       "    </tr>\n",
       "    <tr>\n",
       "      <th>78781</th>\n",
       "      <td>A664093</td>\n",
       "      <td>Katrina</td>\n",
       "      <td>10/26/2013 11:00:00 AM</td>\n",
       "      <td>10/26/2013 11:00:00 AM</td>\n",
       "      <td>09/29/2008</td>\n",
       "      <td>Transfer</td>\n",
       "      <td>Partner</td>\n",
       "      <td>Dog</td>\n",
       "      <td>Spayed Female</td>\n",
       "      <td>5 years</td>\n",
       "      <td>Rottweiler Mix</td>\n",
       "      <td>Black/Tan</td>\n",
       "    </tr>\n",
       "  </tbody>\n",
       "</table>\n",
       "</div>"
      ],
      "text/plain": [
       "      Animal ID     Name                DateTime               MonthYear  \\\n",
       "69876   A664093  Katrina  10/10/2013 12:31:00 PM  10/10/2013 12:31:00 PM   \n",
       "78781   A664093  Katrina  10/26/2013 11:00:00 AM  10/26/2013 11:00:00 AM   \n",
       "\n",
       "      Date of Birth Outcome Type Outcome Subtype Animal Type Sex upon Outcome  \\\n",
       "69876    09/29/2008     Adoption             NaN         Dog    Spayed Female   \n",
       "78781    09/29/2008     Transfer         Partner         Dog    Spayed Female   \n",
       "\n",
       "      Age upon Outcome           Breed      Color  \n",
       "69876          5 years  Rottweiler Mix  Black/Tan  \n",
       "78781          5 years  Rottweiler Mix  Black/Tan  "
      ]
     },
     "execution_count": 473,
     "metadata": {},
     "output_type": "execute_result"
    }
   ],
   "source": [
    "outcome[outcome['Animal ID']=='A664093'].head()"
   ]
  },
  {
   "cell_type": "markdown",
   "metadata": {},
   "source": [
    "# Data Cleaning"
   ]
  },
  {
   "cell_type": "markdown",
   "metadata": {},
   "source": [
    "## Functions"
   ]
  },
  {
   "cell_type": "markdown",
   "metadata": {},
   "source": [
    "I have built functions to make cleaning the data easier. This will also be used later in the workbook to clean data provided about a single animal to make predictions."
   ]
  },
  {
   "cell_type": "markdown",
   "metadata": {},
   "source": [
    "### Intake function"
   ]
  },
  {
   "cell_type": "markdown",
   "metadata": {},
   "source": [
    "This function drops an animals name, month when animal was taken in, location where it was found, breed, sex, colour, type and age when taken in (after categorisation).\n",
    "\n",
    "It also turns the date and time when taken in into a datetime variable.\n",
    "\n",
    "It then renames all columns."
   ]
  },
  {
   "cell_type": "code",
   "execution_count": 474,
   "metadata": {},
   "outputs": [],
   "source": [
    "## Clean intake function\n",
    "\n",
    "def clean_intake(df):\n",
    "    '''Function to clean the intake dataset\n",
    "    \n",
    "    parameters:\n",
    "    - df: dataframe containing intake dataset\n",
    "    \n",
    "    output:\n",
    "    clean intake dataset required for merging'''\n",
    "    for i in ['Name', 'MonthYear', 'Found Location', 'Breed', \n",
    "              'Sex upon Intake', 'Color', 'Animal Type']:\n",
    "        try:\n",
    "            df.drop(i, axis = 1, inplace = True)\n",
    "        except:\n",
    "            print(f'{i} is done')\n",
    "    \n",
    "    df.dropna(inplace = True)\n",
    "    \n",
    "    df['DateTime'] = pd.to_datetime(df['DateTime'])\n",
    "    \n",
    "    ## Drop age upon Intake as no longer useful.\n",
    "    try:\n",
    "        df.drop('Age upon Intake',axis = 1, inplace = True)\n",
    "    except:\n",
    "        print('Age upon Intake is done')\n",
    "    \n",
    "    ## Rename columns\n",
    "    df.columns = ['Animal ID', 'DateTime Intake', 'Intake Type', 'Intake Condition']\n",
    "    \n",
    "    return df"
   ]
  },
  {
   "cell_type": "markdown",
   "metadata": {},
   "source": [
    "### Outcome function"
   ]
  },
  {
   "cell_type": "markdown",
   "metadata": {},
   "source": [
    "This function drops an animals name, month when it was found and age when an outcome has occured (after categorisation).\n",
    "\n",
    "It also turns the date and time when animal was taken in, date and time when outcome has occured and date of birth into a datetime variable.\n",
    "\n",
    "It changes adopted to fostered if fosters is the subtype before dropping the outcome subtype column.\n",
    "\n",
    "Finally it renames all columns."
   ]
  },
  {
   "cell_type": "code",
   "execution_count": 475,
   "metadata": {},
   "outputs": [],
   "source": [
    "## Clean outcome function\n",
    "def clean_outcome(df):\n",
    "    '''Function to clean the outcome dataset\n",
    "    \n",
    "    parameters:\n",
    "    - df: dataframe containing outcome dataset\n",
    "    \n",
    "    output:\n",
    "    clean outcome dataset required for merging.'''\n",
    "    for i in ['Name', 'MonthYear']:\n",
    "        try:\n",
    "            df.drop(i, axis = 1, inplace = True)\n",
    "        except:\n",
    "            print(f'{i} is done')\n",
    "    \n",
    "    df['DateTime'] = pd.to_datetime(df['DateTime'])\n",
    "    \n",
    "    df['Date of Birth'] = pd.to_datetime(df['Date of Birth'])\n",
    "    \n",
    "    df['Age in days upon outcome'] = pd.DatetimeIndex(df['DateTime']).normalize() - df['Date of Birth']\n",
    "    \n",
    "    df.drop('Age upon Outcome', axis = 1, inplace = True)\n",
    "    \n",
    "    ## Change outcome type from adoption to foster if fostered\n",
    "    df.loc[df['Outcome Subtype'] == 'Foster', 'Outcome Type'] = 'Foster'\n",
    "    \n",
    "    try:\n",
    "        df.drop('Outcome Subtype', inplace = True, axis = 1)\n",
    "    except:\n",
    "        print('Outcome subtype dropped')\n",
    "        \n",
    "    return df"
   ]
  },
  {
   "cell_type": "markdown",
   "metadata": {},
   "source": [
    "### Merger"
   ]
  },
  {
   "cell_type": "markdown",
   "metadata": {},
   "source": [
    "The merger function merges the intake and outcome datasets using a function called pd.merge_asof(). In order to use this function all datapoints must be sorted by the DateTime values. The function then matches the intake and outcome data points by animal ID, making sure that the datetime dates match without overlapping or an animal being adopted before it has been taken to the shelter.\n",
    "\n",
    "The merger function then drops any nulls, which removes any animals who have no record of being taken in and any animals with no record of leaving the shelter as they these are not useful to modelling.\n",
    "\n",
    "This now allows us to calculate the age at which the animal appeared at the shelter and the time taken for its outcome to occur.\n",
    "\n",
    "Finally, I drop any columns that are no longer useful."
   ]
  },
  {
   "cell_type": "code",
   "execution_count": 476,
   "metadata": {},
   "outputs": [],
   "source": [
    "## Merger function\n",
    "def merger(intake_df, outcome_df):\n",
    "    '''Function to merge the intake and outcome datasets.\n",
    "    \n",
    "    parameters:\n",
    "    - intake_df: dataframe containing intake dataset\n",
    "    - outcome_df: dataframe containing outcome dataset\n",
    "    \n",
    "    output:\n",
    "    dataset containing intake and outcome data'''\n",
    "    \n",
    "    ## Sort intake by date\n",
    "    intake_df.sort_values(by=['DateTime Intake','Animal ID'],inplace = True)\n",
    "    \n",
    "    ## Sort outcome by date\n",
    "    outcome_df.sort_values(by=['DateTime','Animal ID'],inplace=True)\n",
    "    \n",
    "    ## merge so that dates combine with dog being found before ending up back in shelter and both intake dates don't pair with same outcome dates.\n",
    "    train = pd.merge_asof(intake_df,outcome_df, by='Animal ID', left_on='DateTime Intake', right_on='DateTime',direction='forward')\n",
    "    \n",
    "    ## drop nulls (intakes without outcomes and vice versa)\n",
    "    train.dropna(inplace = True)\n",
    "    \n",
    "    ## calculate age when animal turns up at shelter\n",
    "    train['Age in days upon income'] = pd.DatetimeIndex(train['DateTime Intake']).normalize() - train['Date of Birth']\n",
    "    train = train[train['Age in days upon income']>=datetime.timedelta(days=0)]\n",
    "    \n",
    "    ## calculate time taken for outcome to occur\n",
    "    train['Time Spent in Shelter'] = train['Age in days upon outcome'] - train['Age in days upon income']\n",
    "    \n",
    "    ## drop useless columns\n",
    "    try:\n",
    "        train.drop('DateTime Intake', axis = 1, inplace = True)\n",
    "    except:\n",
    "        print('Datetime intake dropped')\n",
    "        \n",
    "    try:\n",
    "        train.drop('DateTime', axis = 1, inplace = True)\n",
    "    except:\n",
    "        print('Datetime dropped')\n",
    "        \n",
    "    try:\n",
    "        train.drop('Date of Birth', axis = 1, inplace = True)\n",
    "    except:\n",
    "        print('DoB dropped')\n",
    "\n",
    "    \n",
    "    return train"
   ]
  },
  {
   "cell_type": "markdown",
   "metadata": {},
   "source": [
    "## Applying cleaning"
   ]
  },
  {
   "cell_type": "markdown",
   "metadata": {},
   "source": [
    "Our functions above have allowed us to clean the data using a single line of code."
   ]
  },
  {
   "cell_type": "code",
   "execution_count": 477,
   "metadata": {},
   "outputs": [
    {
     "name": "stderr",
     "output_type": "stream",
     "text": [
      "C:\\Users\\lhall\\anaconda3\\lib\\site-packages\\pandas\\core\\frame.py:4163: SettingWithCopyWarning: \n",
      "A value is trying to be set on a copy of a slice from a DataFrame\n",
      "\n",
      "See the caveats in the documentation: https://pandas.pydata.org/pandas-docs/stable/user_guide/indexing.html#returning-a-view-versus-a-copy\n",
      "  return super().drop(\n",
      "<ipython-input-474-4ba9434fddff>:11: SettingWithCopyWarning: \n",
      "A value is trying to be set on a copy of a slice from a DataFrame\n",
      "\n",
      "See the caveats in the documentation: https://pandas.pydata.org/pandas-docs/stable/user_guide/indexing.html#returning-a-view-versus-a-copy\n",
      "  df.dropna(inplace = True)\n",
      "<ipython-input-474-4ba9434fddff>:13: SettingWithCopyWarning: \n",
      "A value is trying to be set on a copy of a slice from a DataFrame.\n",
      "Try using .loc[row_indexer,col_indexer] = value instead\n",
      "\n",
      "See the caveats in the documentation: https://pandas.pydata.org/pandas-docs/stable/user_guide/indexing.html#returning-a-view-versus-a-copy\n",
      "  df['DateTime'] = pd.to_datetime(df['DateTime'])\n",
      "C:\\Users\\lhall\\anaconda3\\lib\\site-packages\\pandas\\core\\frame.py:4163: SettingWithCopyWarning: \n",
      "A value is trying to be set on a copy of a slice from a DataFrame\n",
      "\n",
      "See the caveats in the documentation: https://pandas.pydata.org/pandas-docs/stable/user_guide/indexing.html#returning-a-view-versus-a-copy\n",
      "  return super().drop(\n",
      "<ipython-input-475-f3034219b0de>:9: SettingWithCopyWarning: \n",
      "A value is trying to be set on a copy of a slice from a DataFrame.\n",
      "Try using .loc[row_indexer,col_indexer] = value instead\n",
      "\n",
      "See the caveats in the documentation: https://pandas.pydata.org/pandas-docs/stable/user_guide/indexing.html#returning-a-view-versus-a-copy\n",
      "  df['DateTime'] = pd.to_datetime(df['DateTime'])\n",
      "<ipython-input-475-f3034219b0de>:11: SettingWithCopyWarning: \n",
      "A value is trying to be set on a copy of a slice from a DataFrame.\n",
      "Try using .loc[row_indexer,col_indexer] = value instead\n",
      "\n",
      "See the caveats in the documentation: https://pandas.pydata.org/pandas-docs/stable/user_guide/indexing.html#returning-a-view-versus-a-copy\n",
      "  df['Date of Birth'] = pd.to_datetime(df['Date of Birth'])\n",
      "C:\\Users\\lhall\\anaconda3\\lib\\site-packages\\pandas\\core\\indexing.py:1765: SettingWithCopyWarning: \n",
      "A value is trying to be set on a copy of a slice from a DataFrame.\n",
      "Try using .loc[row_indexer,col_indexer] = value instead\n",
      "\n",
      "See the caveats in the documentation: https://pandas.pydata.org/pandas-docs/stable/user_guide/indexing.html#returning-a-view-versus-a-copy\n",
      "  isetter(loc, value)\n",
      "<ipython-input-476-ee4d13c76655>:5: SettingWithCopyWarning: \n",
      "A value is trying to be set on a copy of a slice from a DataFrame\n",
      "\n",
      "See the caveats in the documentation: https://pandas.pydata.org/pandas-docs/stable/user_guide/indexing.html#returning-a-view-versus-a-copy\n",
      "  intake_df.sort_values(by=['DateTime Intake','Animal ID'],inplace = True)\n",
      "<ipython-input-476-ee4d13c76655>:8: SettingWithCopyWarning: \n",
      "A value is trying to be set on a copy of a slice from a DataFrame\n",
      "\n",
      "See the caveats in the documentation: https://pandas.pydata.org/pandas-docs/stable/user_guide/indexing.html#returning-a-view-versus-a-copy\n",
      "  outcome_df.sort_values(by=['DateTime','Animal ID'],inplace=True)\n",
      "C:\\Users\\lhall\\anaconda3\\lib\\site-packages\\pandas\\core\\frame.py:4163: SettingWithCopyWarning: \n",
      "A value is trying to be set on a copy of a slice from a DataFrame\n",
      "\n",
      "See the caveats in the documentation: https://pandas.pydata.org/pandas-docs/stable/user_guide/indexing.html#returning-a-view-versus-a-copy\n",
      "  return super().drop(\n",
      "<ipython-input-474-4ba9434fddff>:11: SettingWithCopyWarning: \n",
      "A value is trying to be set on a copy of a slice from a DataFrame\n",
      "\n",
      "See the caveats in the documentation: https://pandas.pydata.org/pandas-docs/stable/user_guide/indexing.html#returning-a-view-versus-a-copy\n",
      "  df.dropna(inplace = True)\n",
      "<ipython-input-474-4ba9434fddff>:13: SettingWithCopyWarning: \n",
      "A value is trying to be set on a copy of a slice from a DataFrame.\n",
      "Try using .loc[row_indexer,col_indexer] = value instead\n",
      "\n",
      "See the caveats in the documentation: https://pandas.pydata.org/pandas-docs/stable/user_guide/indexing.html#returning-a-view-versus-a-copy\n",
      "  df['DateTime'] = pd.to_datetime(df['DateTime'])\n",
      "C:\\Users\\lhall\\anaconda3\\lib\\site-packages\\pandas\\core\\frame.py:4163: SettingWithCopyWarning: \n",
      "A value is trying to be set on a copy of a slice from a DataFrame\n",
      "\n",
      "See the caveats in the documentation: https://pandas.pydata.org/pandas-docs/stable/user_guide/indexing.html#returning-a-view-versus-a-copy\n",
      "  return super().drop(\n",
      "<ipython-input-475-f3034219b0de>:9: SettingWithCopyWarning: \n",
      "A value is trying to be set on a copy of a slice from a DataFrame.\n",
      "Try using .loc[row_indexer,col_indexer] = value instead\n",
      "\n",
      "See the caveats in the documentation: https://pandas.pydata.org/pandas-docs/stable/user_guide/indexing.html#returning-a-view-versus-a-copy\n",
      "  df['DateTime'] = pd.to_datetime(df['DateTime'])\n",
      "<ipython-input-475-f3034219b0de>:11: SettingWithCopyWarning: \n",
      "A value is trying to be set on a copy of a slice from a DataFrame.\n",
      "Try using .loc[row_indexer,col_indexer] = value instead\n",
      "\n",
      "See the caveats in the documentation: https://pandas.pydata.org/pandas-docs/stable/user_guide/indexing.html#returning-a-view-versus-a-copy\n",
      "  df['Date of Birth'] = pd.to_datetime(df['Date of Birth'])\n",
      "C:\\Users\\lhall\\anaconda3\\lib\\site-packages\\pandas\\core\\indexing.py:1765: SettingWithCopyWarning: \n",
      "A value is trying to be set on a copy of a slice from a DataFrame.\n",
      "Try using .loc[row_indexer,col_indexer] = value instead\n",
      "\n",
      "See the caveats in the documentation: https://pandas.pydata.org/pandas-docs/stable/user_guide/indexing.html#returning-a-view-versus-a-copy\n",
      "  isetter(loc, value)\n",
      "<ipython-input-476-ee4d13c76655>:5: SettingWithCopyWarning: \n",
      "A value is trying to be set on a copy of a slice from a DataFrame\n",
      "\n",
      "See the caveats in the documentation: https://pandas.pydata.org/pandas-docs/stable/user_guide/indexing.html#returning-a-view-versus-a-copy\n",
      "  intake_df.sort_values(by=['DateTime Intake','Animal ID'],inplace = True)\n",
      "<ipython-input-476-ee4d13c76655>:8: SettingWithCopyWarning: \n",
      "A value is trying to be set on a copy of a slice from a DataFrame\n",
      "\n",
      "See the caveats in the documentation: https://pandas.pydata.org/pandas-docs/stable/user_guide/indexing.html#returning-a-view-versus-a-copy\n",
      "  outcome_df.sort_values(by=['DateTime','Animal ID'],inplace=True)\n"
     ]
    }
   ],
   "source": [
    "dog_merge = merger(clean_intake(intake_dog),clean_outcome(outcome_dog))\n",
    "cat_merge = merger(clean_intake(intake_cat),clean_outcome(outcome_cat))"
   ]
  },
  {
   "cell_type": "markdown",
   "metadata": {},
   "source": [
    "Below allowed me to check whether the cleaning and merging has been successful and check for any issues that may have occurred."
   ]
  },
  {
   "cell_type": "code",
   "execution_count": 478,
   "metadata": {},
   "outputs": [
    {
     "data": {
      "text/plain": [
       "Adoption           30082\n",
       "Return to Owner    19652\n",
       "Transfer           15804\n",
       "Foster              4817\n",
       "Euthanasia          1806\n",
       "Rto-Adopt            612\n",
       "Died                 266\n",
       "Disposal              41\n",
       "Missing               28\n",
       "Name: Outcome Type, dtype: int64"
      ]
     },
     "execution_count": 478,
     "metadata": {},
     "output_type": "execute_result"
    }
   ],
   "source": [
    "dog_merge['Outcome Type'].value_counts()"
   ]
  },
  {
   "cell_type": "code",
   "execution_count": 479,
   "metadata": {},
   "outputs": [
    {
     "data": {
      "text/plain": [
       "Animal ID                   0\n",
       "Intake Type                 0\n",
       "Intake Condition            0\n",
       "Outcome Type                0\n",
       "Animal Type                 0\n",
       "Sex upon Outcome            0\n",
       "Breed                       0\n",
       "Color                       0\n",
       "Age in days upon outcome    0\n",
       "Age in days upon income     0\n",
       "Time Spent in Shelter       0\n",
       "dtype: int64"
      ]
     },
     "execution_count": 479,
     "metadata": {},
     "output_type": "execute_result"
    }
   ],
   "source": [
    "dog_merge.isnull().sum(axis = 0)"
   ]
  },
  {
   "cell_type": "markdown",
   "metadata": {},
   "source": [
    "## Test Train Split"
   ]
  },
  {
   "cell_type": "markdown",
   "metadata": {},
   "source": [
    "Prior to modelling, I split the dog and cat data sets into train and test sets."
   ]
  },
  {
   "cell_type": "code",
   "execution_count": 480,
   "metadata": {},
   "outputs": [],
   "source": [
    "# Test Train split all data sets\n",
    "\n",
    "dog_train, dog_test = train_test_split(dog_merge, test_size = 0.3, random_state = 42)\n",
    "cat_train, cat_test = train_test_split(cat_merge, test_size = 0.3, random_state = 42)"
   ]
  },
  {
   "cell_type": "markdown",
   "metadata": {},
   "source": [
    "## Data cleaning on test and train"
   ]
  },
  {
   "cell_type": "markdown",
   "metadata": {},
   "source": [
    "I created this function to clean the data in both dog and cat test and train sets separately.\n",
    "\n",
    "The first line of action is creating new columns for neutered and mix, then removing the key words from the original columns.\n",
    "\n",
    "Next, I made sure that the outcome types and intake conditions had enough datapoints in each category. This meant removing animals who had died, been disposed of, gone missing or have been relocated and categorising the intake conditions into: Medical, Behaviour, Other and Normal.\n",
    "\n",
    "Finally, animals of unknown gender have been removed."
   ]
  },
  {
   "cell_type": "code",
   "execution_count": 481,
   "metadata": {},
   "outputs": [],
   "source": [
    "## Fix data\n",
    "def fix_data(df):\n",
    "    '''Function to create new columns and make changes from original data in the merged dataset.\n",
    "    \n",
    "    parameters:\n",
    "    - df: dataframe containing merged dataset\n",
    "    \n",
    "    output:\n",
    "    dataset with new columns'''\n",
    "    ## Create a new column called Neutered which gives 1 if animal is spayed or neutered and 0 otherwise\n",
    "    df['Neutered'] = np.where(df['Sex upon Outcome'].str.contains(r'Neutered'), 1,\n",
    "                               np.where(df['Sex upon Outcome'].str.contains(r'Spayed'), 1,0))\n",
    "    \n",
    "    ## Remove neutered, spayed and intact from animals gender.\n",
    "    df['Sex upon Outcome'].replace(r'Neutered\\s', '', regex = True, inplace = True)\n",
    "    df['Sex upon Outcome'].replace(r'Spayed\\s', '', regex = True, inplace = True)\n",
    "    df['Sex upon Outcome'].replace(r'Intact\\s', '', regex = True, inplace = True)\n",
    "    \n",
    "    ## Create a new column called Mix which gives 1 if animal is a crossbreed and 0 if pedigree\n",
    "    df['Mix'] = np.where(df['Breed'].str.contains(r'\\sMix'), 1,\n",
    "                                   np.where(df['Breed'].str.contains(r'\\/[a-zA-Z\\s]+'), 1,0))\n",
    "    \n",
    "    ## Remove the words Mix or secondary breed from breed.\n",
    "    df['Breed'].replace(r'\\sMix', '', regex = True, inplace = True)\n",
    "    df['Breed'].replace(r'\\/[a-zA-Z\\s]+', '', regex = True, inplace = True)\n",
    "    \n",
    "    ## st bernards crosses appear as 'dog. bernard mix'. fix this so appears as 'dog mix'.\n",
    "    df.loc[df['Breed'].str.contains(r'[^St].\\sBernard\\s[A-Za-z\\s]+'), 'Breed'] = df.loc[df['Breed'].str.contains(r'[^St].\\sBernard\\s[A-Za-z\\s]+'), 'Breed'].str.replace(r'.\\sBernard\\s[A-Za-z\\s]+','')\n",
    "        \n",
    "    df['Outcome Type'].replace('Rto-Adopt','Return to Owner', inplace = True)\n",
    "    try:\n",
    "        df = df[~df['Outcome Type'].isin(['Died', 'Disposal', 'Missing', 'Relocate'])]\n",
    "    except:\n",
    "        print('No pets in this category')\n",
    "    else:\n",
    "        print('Pets removed')\n",
    "        \n",
    "    df['Intake Condition'] = np.where(df['Intake Condition'].isin(['Injured', 'Sick', 'Aged', 'Medical', 'Pregnant', 'Nursing', 'Neonatal']), 'Medical',\n",
    "                                   np.where(df['Intake Condition'].isin(['Behavior', 'Feral']), 'Behavior',\n",
    "                                            np.where(df['Intake Condition'].isin(['Other', 'Abandoned', 'Space']), 'Other',\n",
    "                                                     np.where(df['Intake Condition'].isin(['Normal']), 'Normal', 'Unknown'))))\n",
    "    try:\n",
    "        df = df[~df['Sex upon Outcome'].isin(['Unknown'])]\n",
    "    except:\n",
    "        print('No pets in this category')\n",
    "    else:\n",
    "        print('Pets removed')\n",
    "        \n",
    "    return df"
   ]
  },
  {
   "cell_type": "code",
   "execution_count": 482,
   "metadata": {},
   "outputs": [
    {
     "name": "stderr",
     "output_type": "stream",
     "text": [
      "<ipython-input-481-6ac765b8664c>:4: SettingWithCopyWarning: \n",
      "A value is trying to be set on a copy of a slice from a DataFrame.\n",
      "Try using .loc[row_indexer,col_indexer] = value instead\n",
      "\n",
      "See the caveats in the documentation: https://pandas.pydata.org/pandas-docs/stable/user_guide/indexing.html#returning-a-view-versus-a-copy\n",
      "  df['Neutered'] = np.where(df['Sex upon Outcome'].str.contains(r'Neutered'), 1,\n",
      "C:\\Users\\lhall\\anaconda3\\lib\\site-packages\\pandas\\core\\series.py:4563: SettingWithCopyWarning: \n",
      "A value is trying to be set on a copy of a slice from a DataFrame\n",
      "\n",
      "See the caveats in the documentation: https://pandas.pydata.org/pandas-docs/stable/user_guide/indexing.html#returning-a-view-versus-a-copy\n",
      "  return super().replace(\n",
      "<ipython-input-481-6ac765b8664c>:13: SettingWithCopyWarning: \n",
      "A value is trying to be set on a copy of a slice from a DataFrame.\n",
      "Try using .loc[row_indexer,col_indexer] = value instead\n",
      "\n",
      "See the caveats in the documentation: https://pandas.pydata.org/pandas-docs/stable/user_guide/indexing.html#returning-a-view-versus-a-copy\n",
      "  df['Mix'] = np.where(df['Breed'].str.contains(r'\\sMix'), 1,\n",
      "C:\\Users\\lhall\\anaconda3\\lib\\site-packages\\pandas\\core\\indexing.py:1745: SettingWithCopyWarning: \n",
      "A value is trying to be set on a copy of a slice from a DataFrame.\n",
      "Try using .loc[row_indexer,col_indexer] = value instead\n",
      "\n",
      "See the caveats in the documentation: https://pandas.pydata.org/pandas-docs/stable/user_guide/indexing.html#returning-a-view-versus-a-copy\n",
      "  isetter(ilocs[0], value)\n",
      "<ipython-input-481-6ac765b8664c>:31: SettingWithCopyWarning: \n",
      "A value is trying to be set on a copy of a slice from a DataFrame.\n",
      "Try using .loc[row_indexer,col_indexer] = value instead\n",
      "\n",
      "See the caveats in the documentation: https://pandas.pydata.org/pandas-docs/stable/user_guide/indexing.html#returning-a-view-versus-a-copy\n",
      "  df['Intake Condition'] = np.where(df['Intake Condition'].isin(['Injured', 'Sick', 'Aged', 'Medical', 'Pregnant', 'Nursing', 'Neonatal']), 'Medical',\n"
     ]
    },
    {
     "name": "stdout",
     "output_type": "stream",
     "text": [
      "Pets removed\n",
      "Pets removed\n",
      "Pets removed\n",
      "Pets removed\n",
      "Pets removed\n",
      "Pets removed\n",
      "Pets removed\n",
      "Pets removed\n"
     ]
    }
   ],
   "source": [
    "dog_train = fix_data(dog_train)\n",
    "dog_test = fix_data(dog_test)\n",
    "cat_train = fix_data(cat_train)\n",
    "cat_test = fix_data(cat_test)"
   ]
  },
  {
   "cell_type": "markdown",
   "metadata": {},
   "source": [
    "## Fix dog colours and breeds"
   ]
  },
  {
   "cell_type": "markdown",
   "metadata": {},
   "source": [
    "This function uses the lists defined in the list categories above and uses them to categorise the dogs and cats column values. It also removes any strange breed categories.\n",
    "\n",
    "You will see this used again for the final function on data one provides."
   ]
  },
  {
   "cell_type": "code",
   "execution_count": 483,
   "metadata": {},
   "outputs": [],
   "source": [
    "def fix_dog_colour(df):\n",
    "    '''Function to categorise column values from merged dataset.\n",
    "    \n",
    "    parameters:\n",
    "    - df: dataframe containing merged dataset with new columns\n",
    "    \n",
    "    output:\n",
    "    dataset with smaller value counts in each column'''\n",
    "    try:\n",
    "        df = df[~df['Breed'].isin(['Wolf Hybrid', 'Black', 'Unknown'])]\n",
    "    except:\n",
    "        print('No dogs in this category')\n",
    "    else:\n",
    "        print('Dogs removed')\n",
    "    df['Breed Category'] = np.where(df['Breed'].isin(Companions), 'Companion',\n",
    "                                   np.where(df['Breed'].isin(Herding_dogs), 'Herding',\n",
    "                                            np.where(df['Breed'].isin(Hound_dogs), 'Hound',\n",
    "                                                     np.where(df['Breed'].isin(Working_dogs), 'Working',\n",
    "                                                              np.where(df['Breed'].isin(Sporting_dogs), 'Sporting',\n",
    "                                                                       np.where(df['Breed'].isin(Bully_breeds), 'Bull',\n",
    "                                                                                np.where(df['Breed'].isin(Racing_dogs), 'Racing',\n",
    "                                                                                          np.where(df['Breed'].isin(Terriers), 'Terrier','Unknown'))))))))\n",
    "    df['Size'] = np.where(df['Breed'].isin(toy), 'Toy',\n",
    "                                   np.where(df['Breed'].isin(small), 'Small',\n",
    "                                            np.where(df['Breed'].isin(medium), 'Medium',\n",
    "                                                     np.where(df['Breed'].isin(large), 'Large',\n",
    "                                                              np.where(df['Breed'].isin(giant), 'Giant','Unknown')))))\n",
    "    \n",
    "    df['Color'].replace(r'\\/[a-zA-Z\\s]+', '', regex = True, inplace = True)\n",
    "    df['Color Category'] = np.where(df['Color'].isin(dark_dog), 'Dark',\n",
    "                                   np.where(df['Color'].isin(light_dog), 'Light',\n",
    "                                            np.where(df['Color'].isin(red_orange_dog), 'Red/Orangeish',\n",
    "                                                     np.where(df['Color'].isin(blue_grey_dog), 'Blue/Greyish',\n",
    "                                                              np.where(df['Color'].isin(merle_dog), 'Merle','Unknown')))))\n",
    "    return df"
   ]
  },
  {
   "cell_type": "markdown",
   "metadata": {},
   "source": [
    "## Fix cat colours and breeds"
   ]
  },
  {
   "cell_type": "code",
   "execution_count": 484,
   "metadata": {},
   "outputs": [],
   "source": [
    "def fix_cat_colour(df):\n",
    "    '''Function to categorise column values from merged dataset.\n",
    "    \n",
    "    parameters:\n",
    "    - df: dataframe containing merged dataset with new columns\n",
    "    \n",
    "    output:\n",
    "    dataset with smaller value counts in each column'''\n",
    "    df['Breed Category'] = np.where(df['Breed'].isin(short_hair), 'Short Hair',\n",
    "                                   np.where(df['Breed'].isin(long_hair), 'Long Hair',\n",
    "                                            np.where(df['Breed'].isin(hairless), 'Hairless','Unknown')))\n",
    "    \n",
    "    ## Create a new column called Pattern which gives 2 color if animal has two colours, striped if tabby or tiger, point if siamese coloured and spotted if breed is ocicat\n",
    "    df['Pattern'] = np.where(df['Color'].str.contains(r'\\/[a-zA-Z\\s]+'), '2 color',\n",
    "                                   np.where(df['Color'].str.contains('Tabby'), 'Striped',\n",
    "                                            np.where(df['Color'].str.contains('Tiger'), 'Striped',\n",
    "                                                     np.where(df['Color'].str.contains('Point'), 'Point',\n",
    "                                                              np.where(df['Color'].str.contains('Brindle'), 'Brindle',\n",
    "                                                                       np.where(df['Color'].str.contains('Merle'), 'Merle','Solid'))))))\n",
    "    df['Color'].replace(r'\\/[a-zA-Z\\s]+', '', regex = True, inplace = True)\n",
    "    df['Color'].replace(r'\\sTabby', '', regex = True, inplace = True)\n",
    "    df['Color'].replace(r'\\sTiger', '', regex = True, inplace = True)\n",
    "    df['Color'].replace(r'\\sPoint', '', regex = True, inplace = True)\n",
    "    df['Color'].replace(r'\\sBrindle', '', regex = True, inplace = True)\n",
    "    df['Color'].replace(r'\\sMerle', '', regex = True, inplace = True)\n",
    "    \n",
    "    df['Color Category'] = np.where(df['Color'].isin(dark_cat), 'Dark',\n",
    "                                   np.where(df['Color'].isin(light_cat), 'Light',\n",
    "                                            np.where(df['Color'].isin(red_orange_cat), 'Red/Orangeish',\n",
    "                                                     np.where(df['Color'].isin(blue_grey_cat), 'Blue/Greyish',\n",
    "                                                              np.where(df['Color'].isin(black_orange_white_cat), 'Black Orange White','Unknown')))))\n",
    "    return df"
   ]
  },
  {
   "cell_type": "code",
   "execution_count": 485,
   "metadata": {},
   "outputs": [
    {
     "name": "stdout",
     "output_type": "stream",
     "text": [
      "Dogs removed\n",
      "Dogs removed\n"
     ]
    },
    {
     "name": "stderr",
     "output_type": "stream",
     "text": [
      "<ipython-input-483-71e31c7c9ba9>:8: SettingWithCopyWarning: \n",
      "A value is trying to be set on a copy of a slice from a DataFrame.\n",
      "Try using .loc[row_indexer,col_indexer] = value instead\n",
      "\n",
      "See the caveats in the documentation: https://pandas.pydata.org/pandas-docs/stable/user_guide/indexing.html#returning-a-view-versus-a-copy\n",
      "  df['Breed Category'] = np.where(df['Breed'].isin(Companions), 'Companion',\n",
      "<ipython-input-483-71e31c7c9ba9>:16: SettingWithCopyWarning: \n",
      "A value is trying to be set on a copy of a slice from a DataFrame.\n",
      "Try using .loc[row_indexer,col_indexer] = value instead\n",
      "\n",
      "See the caveats in the documentation: https://pandas.pydata.org/pandas-docs/stable/user_guide/indexing.html#returning-a-view-versus-a-copy\n",
      "  df['Size'] = np.where(df['Breed'].isin(toy), 'Toy',\n",
      "<ipython-input-483-71e31c7c9ba9>:23: SettingWithCopyWarning: \n",
      "A value is trying to be set on a copy of a slice from a DataFrame.\n",
      "Try using .loc[row_indexer,col_indexer] = value instead\n",
      "\n",
      "See the caveats in the documentation: https://pandas.pydata.org/pandas-docs/stable/user_guide/indexing.html#returning-a-view-versus-a-copy\n",
      "  df['Color Category'] = np.where(df['Color'].isin(dark_dog), 'Dark',\n"
     ]
    }
   ],
   "source": [
    "dog_train = fix_dog_colour(dog_train)\n",
    "dog_test = fix_dog_colour(dog_test)\n",
    "cat_train = fix_cat_colour(cat_train)\n",
    "cat_test = fix_cat_colour(cat_test)"
   ]
  },
  {
   "cell_type": "markdown",
   "metadata": {},
   "source": [
    "## Data Visualisation"
   ]
  },
  {
   "cell_type": "markdown",
   "metadata": {},
   "source": [
    "In this section, I will visualise the data to look for patterns and better understand what patterns exist for the model to build on."
   ]
  },
  {
   "cell_type": "code",
   "execution_count": 486,
   "metadata": {},
   "outputs": [
    {
     "data": {
      "text/html": [
       "<div>\n",
       "<style scoped>\n",
       "    .dataframe tbody tr th:only-of-type {\n",
       "        vertical-align: middle;\n",
       "    }\n",
       "\n",
       "    .dataframe tbody tr th {\n",
       "        vertical-align: top;\n",
       "    }\n",
       "\n",
       "    .dataframe thead th {\n",
       "        text-align: right;\n",
       "    }\n",
       "</style>\n",
       "<table border=\"1\" class=\"dataframe\">\n",
       "  <thead>\n",
       "    <tr style=\"text-align: right;\">\n",
       "      <th></th>\n",
       "      <th>Animal ID</th>\n",
       "      <th>Intake Type</th>\n",
       "      <th>Intake Condition</th>\n",
       "      <th>Outcome Type</th>\n",
       "      <th>Animal Type</th>\n",
       "      <th>Sex upon Outcome</th>\n",
       "      <th>Breed</th>\n",
       "      <th>Color</th>\n",
       "      <th>Age in days upon outcome</th>\n",
       "      <th>Age in days upon income</th>\n",
       "      <th>Time Spent in Shelter</th>\n",
       "      <th>Neutered</th>\n",
       "      <th>Mix</th>\n",
       "      <th>Breed Category</th>\n",
       "      <th>Size</th>\n",
       "      <th>Color Category</th>\n",
       "    </tr>\n",
       "  </thead>\n",
       "  <tbody>\n",
       "    <tr>\n",
       "      <th>42883</th>\n",
       "      <td>A763555</td>\n",
       "      <td>Stray</td>\n",
       "      <td>Normal</td>\n",
       "      <td>Transfer</td>\n",
       "      <td>Dog</td>\n",
       "      <td>Female</td>\n",
       "      <td>Beagle</td>\n",
       "      <td>Tricolor</td>\n",
       "      <td>3164 days</td>\n",
       "      <td>3159 days</td>\n",
       "      <td>5 days</td>\n",
       "      <td>1</td>\n",
       "      <td>0</td>\n",
       "      <td>Hound</td>\n",
       "      <td>Small</td>\n",
       "      <td>Dark</td>\n",
       "    </tr>\n",
       "    <tr>\n",
       "      <th>33976</th>\n",
       "      <td>A742234</td>\n",
       "      <td>Public Assist</td>\n",
       "      <td>Normal</td>\n",
       "      <td>Return to Owner</td>\n",
       "      <td>Dog</td>\n",
       "      <td>Male</td>\n",
       "      <td>Yorkshire Terrier</td>\n",
       "      <td>Brown</td>\n",
       "      <td>2932 days</td>\n",
       "      <td>2925 days</td>\n",
       "      <td>7 days</td>\n",
       "      <td>1</td>\n",
       "      <td>1</td>\n",
       "      <td>Terrier</td>\n",
       "      <td>Toy</td>\n",
       "      <td>Dark</td>\n",
       "    </tr>\n",
       "    <tr>\n",
       "      <th>65359</th>\n",
       "      <td>A716669</td>\n",
       "      <td>Stray</td>\n",
       "      <td>Normal</td>\n",
       "      <td>Return to Owner</td>\n",
       "      <td>Dog</td>\n",
       "      <td>Female</td>\n",
       "      <td>Saluki</td>\n",
       "      <td>Tricolor</td>\n",
       "      <td>1903 days</td>\n",
       "      <td>1903 days</td>\n",
       "      <td>0 days</td>\n",
       "      <td>1</td>\n",
       "      <td>1</td>\n",
       "      <td>Racing</td>\n",
       "      <td>Large</td>\n",
       "      <td>Dark</td>\n",
       "    </tr>\n",
       "    <tr>\n",
       "      <th>48326</th>\n",
       "      <td>A775736</td>\n",
       "      <td>Stray</td>\n",
       "      <td>Normal</td>\n",
       "      <td>Return to Owner</td>\n",
       "      <td>Dog</td>\n",
       "      <td>Male</td>\n",
       "      <td>Pit Bull</td>\n",
       "      <td>Brown</td>\n",
       "      <td>1734 days</td>\n",
       "      <td>1731 days</td>\n",
       "      <td>3 days</td>\n",
       "      <td>0</td>\n",
       "      <td>1</td>\n",
       "      <td>Bull</td>\n",
       "      <td>Large</td>\n",
       "      <td>Dark</td>\n",
       "    </tr>\n",
       "    <tr>\n",
       "      <th>23850</th>\n",
       "      <td>A453083</td>\n",
       "      <td>Stray</td>\n",
       "      <td>Normal</td>\n",
       "      <td>Return to Owner</td>\n",
       "      <td>Dog</td>\n",
       "      <td>Female</td>\n",
       "      <td>Border Collie</td>\n",
       "      <td>Chocolate</td>\n",
       "      <td>3712 days</td>\n",
       "      <td>3712 days</td>\n",
       "      <td>0 days</td>\n",
       "      <td>1</td>\n",
       "      <td>1</td>\n",
       "      <td>Herding</td>\n",
       "      <td>Medium</td>\n",
       "      <td>Dark</td>\n",
       "    </tr>\n",
       "  </tbody>\n",
       "</table>\n",
       "</div>"
      ],
      "text/plain": [
       "      Animal ID    Intake Type Intake Condition     Outcome Type Animal Type  \\\n",
       "42883   A763555          Stray           Normal         Transfer         Dog   \n",
       "33976   A742234  Public Assist           Normal  Return to Owner         Dog   \n",
       "65359   A716669          Stray           Normal  Return to Owner         Dog   \n",
       "48326   A775736          Stray           Normal  Return to Owner         Dog   \n",
       "23850   A453083          Stray           Normal  Return to Owner         Dog   \n",
       "\n",
       "      Sex upon Outcome              Breed      Color Age in days upon outcome  \\\n",
       "42883           Female             Beagle   Tricolor                3164 days   \n",
       "33976             Male  Yorkshire Terrier      Brown                2932 days   \n",
       "65359           Female             Saluki   Tricolor                1903 days   \n",
       "48326             Male           Pit Bull      Brown                1734 days   \n",
       "23850           Female      Border Collie  Chocolate                3712 days   \n",
       "\n",
       "      Age in days upon income Time Spent in Shelter  Neutered  Mix  \\\n",
       "42883               3159 days                5 days         1    0   \n",
       "33976               2925 days                7 days         1    1   \n",
       "65359               1903 days                0 days         1    1   \n",
       "48326               1731 days                3 days         0    1   \n",
       "23850               3712 days                0 days         1    1   \n",
       "\n",
       "      Breed Category    Size Color Category  \n",
       "42883          Hound   Small           Dark  \n",
       "33976        Terrier     Toy           Dark  \n",
       "65359         Racing   Large           Dark  \n",
       "48326           Bull   Large           Dark  \n",
       "23850        Herding  Medium           Dark  "
      ]
     },
     "execution_count": 486,
     "metadata": {},
     "output_type": "execute_result"
    }
   ],
   "source": [
    "dog_train.head()"
   ]
  },
  {
   "cell_type": "code",
   "execution_count": 487,
   "metadata": {},
   "outputs": [
    {
     "data": {
      "text/plain": [
       "Adoption           21121\n",
       "Return to Owner    14026\n",
       "Transfer           10833\n",
       "Foster              3352\n",
       "Euthanasia          1241\n",
       "Name: Outcome Type, dtype: int64"
      ]
     },
     "execution_count": 487,
     "metadata": {},
     "output_type": "execute_result"
    }
   ],
   "source": [
    "dog_train['Outcome Type'].value_counts()"
   ]
  },
  {
   "cell_type": "markdown",
   "metadata": {},
   "source": [
    "As you can see below, return to owner and transfer tends to occur faster than foster.\n",
    "\n",
    "Most of the outcomes occur quickly, with a few (mostly fosters) taking a bit longer.\n",
    "\n",
    "You can also notice that the only numeric points we have do not have a linear correlation, as the vast majority of points lie at the bottom. Hence, we may not be able to use linear or polynomial regression. We will have to try non linear regression techniques."
   ]
  },
  {
   "cell_type": "code",
   "execution_count": 488,
   "metadata": {},
   "outputs": [
    {
     "data": {
      "text/plain": [
       "<matplotlib.legend.Legend at 0x28d92c5aa90>"
      ]
     },
     "execution_count": 488,
     "metadata": {},
     "output_type": "execute_result"
    },
    {
     "data": {
      "image/png": "[encoded data removed]",
      "text/plain": [
       "<Figure size 1440x1080 with 1 Axes>"
      ]
     },
     "metadata": {
      "needs_background": "light"
     },
     "output_type": "display_data"
    }
   ],
   "source": [
    "plt.figure(figsize=(20,15))\n",
    "groups = dog_train.groupby('Outcome Type')\n",
    "for name, group in groups:\n",
    "    plt.plot(group[\"Age in days upon income\"], group[\"Time Spent in Shelter\"], marker=\"o\", linestyle=\"\", label=name)\n",
    "plt.xlabel('Age in days upon income')\n",
    "plt.ylabel('Time Spent in Shelter')\n",
    "plt.legend()"
   ]
  },
  {
   "cell_type": "markdown",
   "metadata": {},
   "source": [
    "As you can see, the majority of dogs who take the longest to be adopted are in the 'Bully Breeds' category (7)."
   ]
  },
  {
   "cell_type": "code",
   "execution_count": 489,
   "metadata": {},
   "outputs": [
    {
     "data": {
      "image/png": "[encoded data removed]",
      "text/plain": [
       "<Figure size 720x432 with 1 Axes>"
      ]
     },
     "metadata": {
      "needs_background": "light"
     },
     "output_type": "display_data"
    }
   ],
   "source": [
    "test_dog_train = dog_train.copy()\n",
    "test_dog_train = test_dog_train[test_dog_train['Outcome Type'] == 'Adoption']\n",
    "test_dog_train['Time Spent in Shelter'] = test_dog_train['Time Spent in Shelter'].dt.days\n",
    "groups2 = test_dog_train[['Breed','Time Spent in Shelter']].groupby(['Breed']).mean().sort_values(by = 'Time Spent in Shelter', ascending = False).head(10)\n",
    "ax = groups2.plot(kind='bar', figsize=(10,6), color=\"blue\", fontsize=13)"
   ]
  },
  {
   "cell_type": "markdown",
   "metadata": {},
   "source": [
    "On the opposite side, the dogs most quickly adopted, on average, are mostly in the companion category (4) with working and sporting in a close second (2)."
   ]
  },
  {
   "cell_type": "code",
   "execution_count": 490,
   "metadata": {},
   "outputs": [
    {
     "data": {
      "image/png": "[encoded data removed]",
      "text/plain": [
       "<Figure size 720x432 with 1 Axes>"
      ]
     },
     "metadata": {
      "needs_background": "light"
     },
     "output_type": "display_data"
    }
   ],
   "source": [
    "groups3 = test_dog_train[['Breed','Time Spent in Shelter']].groupby(['Breed']).mean().sort_values(by = 'Time Spent in Shelter', ascending = True).head(10)\n",
    "ax = groups3.plot(kind='bar', figsize=(10,6), color=\"blue\", fontsize=13)"
   ]
  },
  {
   "cell_type": "markdown",
   "metadata": {},
   "source": [
    "## Modelling"
   ]
  },
  {
   "cell_type": "markdown",
   "metadata": {},
   "source": [
    "Now that the data sets have the correct columns, I can now prepare them for modelling through dropping columns which are not useful for any modelling and one hot encoding the remaining string columns."
   ]
  },
  {
   "cell_type": "markdown",
   "metadata": {},
   "source": [
    "### Picking columns"
   ]
  },
  {
   "cell_type": "markdown",
   "metadata": {},
   "source": [
    "Drop any remaining useless columns prior to modelling."
   ]
  },
  {
   "cell_type": "code",
   "execution_count": 491,
   "metadata": {},
   "outputs": [],
   "source": [
    "def column_drop(df):\n",
    "    '''Function to drop columns from given dataset.\n",
    "    \n",
    "    parameters:\n",
    "    - df: dataframe containing dataset with new columns, now categorised and split.\n",
    "    \n",
    "    output:\n",
    "    dataset with smaller number of columns'''\n",
    "    for i in ['Animal ID', 'Animal Type', 'Age in days upon outcome',\n",
    "             'Breed', 'Color']:\n",
    "        try:\n",
    "            df.drop(i, axis = 1, inplace = True)\n",
    "        except:\n",
    "            print(f'{i} dropped')\n",
    "        \n",
    "    return df\n"
   ]
  },
  {
   "cell_type": "code",
   "execution_count": 492,
   "metadata": {},
   "outputs": [],
   "source": [
    "dog_train = column_drop(dog_train)\n",
    "dog_test = column_drop(dog_test)\n",
    "cat_train = column_drop(cat_train)\n",
    "cat_test = column_drop(cat_test)"
   ]
  },
  {
   "cell_type": "code",
   "execution_count": 493,
   "metadata": {},
   "outputs": [
    {
     "data": {
      "text/plain": [
       "array(['Normal', 'Medical', 'Other', 'Behavior'], dtype=object)"
      ]
     },
     "execution_count": 493,
     "metadata": {},
     "output_type": "execute_result"
    }
   ],
   "source": [
    "dog_train['Intake Condition'].unique()"
   ]
  },
  {
   "cell_type": "markdown",
   "metadata": {},
   "source": [
    "### One hot encoding"
   ]
  },
  {
   "cell_type": "markdown",
   "metadata": {},
   "source": [
    "One hot encode the dog and cat test and train string columns."
   ]
  },
  {
   "cell_type": "code",
   "execution_count": 494,
   "metadata": {},
   "outputs": [],
   "source": [
    "def dog_feature_eng(df):\n",
    "    '''Function to one hot encode dog dataset.\n",
    "    \n",
    "    parameters:\n",
    "    - df: dataframe of dog dataset\n",
    "    \n",
    "    output:\n",
    "    dataset with more columns with 1, 0 values'''\n",
    "    prefix_list = ['itype', 'icond', 'sex', 'bcat', 'size', 'ccat']\n",
    "    j=0\n",
    "    for i in ['Intake Type', 'Intake Condition', 'Sex upon Outcome', 'Breed Category', 'Size', 'Color Category']:\n",
    "        df = pd.get_dummies(df, columns=[i], drop_first=True, prefix=prefix_list[j])\n",
    "        j+=1\n",
    "    \n",
    "    return df"
   ]
  },
  {
   "cell_type": "code",
   "execution_count": 495,
   "metadata": {},
   "outputs": [],
   "source": [
    "def cat_feature_eng(df):\n",
    "    '''Function to one hot encode cat dataset.\n",
    "    \n",
    "    parameters:\n",
    "    - df: dataframe of cat dataset\n",
    "    \n",
    "    output:\n",
    "    dataset with more columns with 1, 0 values'''\n",
    "    prefix_list = ['itype', 'icond', 'sex', 'bcat', 'patt', 'ccat']\n",
    "    j=0\n",
    "    for i in ['Intake Type', 'Intake Condition', 'Sex upon Outcome', 'Breed Category', 'Pattern', 'Color Category']:\n",
    "        df = pd.get_dummies(df, columns=[i], drop_first=True, prefix=prefix_list[j])\n",
    "        j+=1\n",
    "    return df"
   ]
  },
  {
   "cell_type": "code",
   "execution_count": 496,
   "metadata": {},
   "outputs": [],
   "source": [
    "dog_train = dog_feature_eng(dog_train)\n",
    "dog_test = dog_feature_eng(dog_test)\n",
    "cat_train = cat_feature_eng(cat_train)\n",
    "cat_test = cat_feature_eng(cat_test)"
   ]
  },
  {
   "cell_type": "markdown",
   "metadata": {},
   "source": [
    "Now I can turn the time column values into integers as number of days."
   ]
  },
  {
   "cell_type": "code",
   "execution_count": 497,
   "metadata": {},
   "outputs": [],
   "source": [
    "## Turning time deltas into numeric values for modelling\n",
    "dog_train['Age in days upon income'] = dog_train['Age in days upon income'].dt.days\n",
    "dog_train['Time Spent in Shelter'] = dog_train['Time Spent in Shelter'].dt.days\n",
    "dog_test['Age in days upon income'] = dog_test['Age in days upon income'].dt.days\n",
    "dog_test['Time Spent in Shelter'] = dog_test['Time Spent in Shelter'].dt.days"
   ]
  },
  {
   "cell_type": "code",
   "execution_count": 498,
   "metadata": {},
   "outputs": [],
   "source": [
    "cat_train['Age in days upon income'] = cat_train['Age in days upon income'].dt.days\n",
    "cat_train['Time Spent in Shelter'] = cat_train['Time Spent in Shelter'].dt.days\n",
    "cat_test['Age in days upon income'] = cat_test['Age in days upon income'].dt.days\n",
    "cat_test['Time Spent in Shelter'] = cat_test['Time Spent in Shelter'].dt.days"
   ]
  },
  {
   "cell_type": "markdown",
   "metadata": {},
   "source": [
    "All the numeric value columns ready for scaling- will have no effect on one hot encoded columns.\n",
    "\n",
    "I have made sure to miss out time spent in shelter, as this will not be used in the classification modelling and is what we want to estimate in our regression models."
   ]
  },
  {
   "cell_type": "code",
   "execution_count": 499,
   "metadata": {},
   "outputs": [],
   "source": [
    "## Scaling age column\n",
    "scaler_dog_cols = ['Age in days upon income',\n",
    "       'Neutered', 'Mix', 'itype_Euthanasia Request', 'itype_Owner Surrender',\n",
    "       'itype_Public Assist', 'itype_Stray', 'icond_Medical', 'icond_Normal',\n",
    "       'icond_Other', 'sex_Male', 'bcat_Herding', 'bcat_Hound', 'bcat_Racing',\n",
    "       'bcat_Sporting', 'bcat_Terrier', 'bcat_Companion', 'bcat_Working',\n",
    "       'size_Large', 'size_Medium', 'size_Small', 'size_Toy', 'ccat_Dark',\n",
    "       'ccat_Light', 'ccat_Merle', 'ccat_Red/Orangeish']"
   ]
  },
  {
   "cell_type": "markdown",
   "metadata": {},
   "source": [
    "In order to scale the numeric data, I have decided to use a standard scaler, as it gives better results than the min-max scaler."
   ]
  },
  {
   "cell_type": "code",
   "execution_count": 501,
   "metadata": {},
   "outputs": [],
   "source": [
    "scaler_dog = StandardScaler()\n",
    "\n",
    "dog_train['Age in days upon income'] = scaler_dog.fit_transform(dog_train[scaler_dog_cols])\n",
    "dog_test['Age in days upon income'] = scaler_dog.transform(dog_test[scaler_dog_cols])"
   ]
  },
  {
   "cell_type": "code",
   "execution_count": 502,
   "metadata": {},
   "outputs": [],
   "source": [
    "scaler_cat_cols = ['Age in days upon income',\n",
    "       'Neutered', 'Mix', 'itype_Euthanasia Request', 'itype_Owner Surrender',\n",
    "       'itype_Public Assist', 'itype_Stray', 'icond_Medical', 'icond_Normal',\n",
    "       'icond_Other', 'sex_Male', 'bcat_Long Hair', 'bcat_Short Hair',\n",
    "       'patt_Brindle', 'patt_Point', 'patt_Solid', 'patt_Striped',\n",
    "       'ccat_Blue/Greyish', 'ccat_Dark', 'ccat_Light', 'ccat_Red/Orangeish']"
   ]
  },
  {
   "cell_type": "code",
   "execution_count": 503,
   "metadata": {},
   "outputs": [],
   "source": [
    "scaler_cat = StandardScaler()\n",
    "cat_test['patt_Brindle'] = 0\n",
    "cat_train['Age in days upon income'] = scaler_cat.fit_transform(cat_train[scaler_cat_cols])\n",
    "cat_test['Age in days upon income'] = scaler_cat.transform(cat_test[scaler_cat_cols])"
   ]
  },
  {
   "cell_type": "markdown",
   "metadata": {},
   "source": [
    "Final check before modelling begins."
   ]
  },
  {
   "cell_type": "code",
   "execution_count": 504,
   "metadata": {},
   "outputs": [
    {
     "data": {
      "text/html": [
       "<div>\n",
       "<style scoped>\n",
       "    .dataframe tbody tr th:only-of-type {\n",
       "        vertical-align: middle;\n",
       "    }\n",
       "\n",
       "    .dataframe tbody tr th {\n",
       "        vertical-align: top;\n",
       "    }\n",
       "\n",
       "    .dataframe thead th {\n",
       "        text-align: right;\n",
       "    }\n",
       "</style>\n",
       "<table border=\"1\" class=\"dataframe\">\n",
       "  <thead>\n",
       "    <tr style=\"text-align: right;\">\n",
       "      <th></th>\n",
       "      <th>Outcome Type</th>\n",
       "      <th>Age in days upon income</th>\n",
       "      <th>Time Spent in Shelter</th>\n",
       "      <th>Neutered</th>\n",
       "      <th>Mix</th>\n",
       "      <th>itype_Euthanasia Request</th>\n",
       "      <th>itype_Owner Surrender</th>\n",
       "      <th>itype_Public Assist</th>\n",
       "      <th>itype_Stray</th>\n",
       "      <th>icond_Medical</th>\n",
       "      <th>...</th>\n",
       "      <th>bcat_Long Hair</th>\n",
       "      <th>bcat_Short Hair</th>\n",
       "      <th>patt_Brindle</th>\n",
       "      <th>patt_Point</th>\n",
       "      <th>patt_Solid</th>\n",
       "      <th>patt_Striped</th>\n",
       "      <th>ccat_Blue/Greyish</th>\n",
       "      <th>ccat_Dark</th>\n",
       "      <th>ccat_Light</th>\n",
       "      <th>ccat_Red/Orangeish</th>\n",
       "    </tr>\n",
       "  </thead>\n",
       "  <tbody>\n",
       "    <tr>\n",
       "      <th>34117</th>\n",
       "      <td>Transfer</td>\n",
       "      <td>0.186349</td>\n",
       "      <td>18</td>\n",
       "      <td>1</td>\n",
       "      <td>1</td>\n",
       "      <td>0</td>\n",
       "      <td>1</td>\n",
       "      <td>0</td>\n",
       "      <td>0</td>\n",
       "      <td>0</td>\n",
       "      <td>...</td>\n",
       "      <td>0</td>\n",
       "      <td>1</td>\n",
       "      <td>0</td>\n",
       "      <td>0</td>\n",
       "      <td>0</td>\n",
       "      <td>0</td>\n",
       "      <td>0</td>\n",
       "      <td>1</td>\n",
       "      <td>0</td>\n",
       "      <td>0</td>\n",
       "    </tr>\n",
       "    <tr>\n",
       "      <th>39399</th>\n",
       "      <td>Transfer</td>\n",
       "      <td>-0.476298</td>\n",
       "      <td>9</td>\n",
       "      <td>1</td>\n",
       "      <td>0</td>\n",
       "      <td>0</td>\n",
       "      <td>0</td>\n",
       "      <td>0</td>\n",
       "      <td>1</td>\n",
       "      <td>0</td>\n",
       "      <td>...</td>\n",
       "      <td>0</td>\n",
       "      <td>1</td>\n",
       "      <td>0</td>\n",
       "      <td>0</td>\n",
       "      <td>0</td>\n",
       "      <td>0</td>\n",
       "      <td>0</td>\n",
       "      <td>1</td>\n",
       "      <td>0</td>\n",
       "      <td>0</td>\n",
       "    </tr>\n",
       "    <tr>\n",
       "      <th>8061</th>\n",
       "      <td>Transfer</td>\n",
       "      <td>-0.324751</td>\n",
       "      <td>1</td>\n",
       "      <td>0</td>\n",
       "      <td>1</td>\n",
       "      <td>0</td>\n",
       "      <td>0</td>\n",
       "      <td>0</td>\n",
       "      <td>1</td>\n",
       "      <td>0</td>\n",
       "      <td>...</td>\n",
       "      <td>1</td>\n",
       "      <td>0</td>\n",
       "      <td>0</td>\n",
       "      <td>0</td>\n",
       "      <td>1</td>\n",
       "      <td>0</td>\n",
       "      <td>0</td>\n",
       "      <td>0</td>\n",
       "      <td>0</td>\n",
       "      <td>0</td>\n",
       "    </tr>\n",
       "    <tr>\n",
       "      <th>1088</th>\n",
       "      <td>Transfer</td>\n",
       "      <td>-0.325741</td>\n",
       "      <td>45</td>\n",
       "      <td>1</td>\n",
       "      <td>1</td>\n",
       "      <td>0</td>\n",
       "      <td>0</td>\n",
       "      <td>0</td>\n",
       "      <td>1</td>\n",
       "      <td>0</td>\n",
       "      <td>...</td>\n",
       "      <td>0</td>\n",
       "      <td>1</td>\n",
       "      <td>0</td>\n",
       "      <td>0</td>\n",
       "      <td>0</td>\n",
       "      <td>1</td>\n",
       "      <td>1</td>\n",
       "      <td>0</td>\n",
       "      <td>0</td>\n",
       "      <td>0</td>\n",
       "    </tr>\n",
       "    <tr>\n",
       "      <th>45403</th>\n",
       "      <td>Foster</td>\n",
       "      <td>-0.506013</td>\n",
       "      <td>106</td>\n",
       "      <td>1</td>\n",
       "      <td>0</td>\n",
       "      <td>0</td>\n",
       "      <td>0</td>\n",
       "      <td>0</td>\n",
       "      <td>1</td>\n",
       "      <td>0</td>\n",
       "      <td>...</td>\n",
       "      <td>0</td>\n",
       "      <td>1</td>\n",
       "      <td>0</td>\n",
       "      <td>0</td>\n",
       "      <td>1</td>\n",
       "      <td>0</td>\n",
       "      <td>0</td>\n",
       "      <td>0</td>\n",
       "      <td>0</td>\n",
       "      <td>0</td>\n",
       "    </tr>\n",
       "    <tr>\n",
       "      <th>...</th>\n",
       "      <td>...</td>\n",
       "      <td>...</td>\n",
       "      <td>...</td>\n",
       "      <td>...</td>\n",
       "      <td>...</td>\n",
       "      <td>...</td>\n",
       "      <td>...</td>\n",
       "      <td>...</td>\n",
       "      <td>...</td>\n",
       "      <td>...</td>\n",
       "      <td>...</td>\n",
       "      <td>...</td>\n",
       "      <td>...</td>\n",
       "      <td>...</td>\n",
       "      <td>...</td>\n",
       "      <td>...</td>\n",
       "      <td>...</td>\n",
       "      <td>...</td>\n",
       "      <td>...</td>\n",
       "      <td>...</td>\n",
       "      <td>...</td>\n",
       "    </tr>\n",
       "    <tr>\n",
       "      <th>6304</th>\n",
       "      <td>Adoption</td>\n",
       "      <td>1.271941</td>\n",
       "      <td>2</td>\n",
       "      <td>1</td>\n",
       "      <td>1</td>\n",
       "      <td>0</td>\n",
       "      <td>1</td>\n",
       "      <td>0</td>\n",
       "      <td>0</td>\n",
       "      <td>0</td>\n",
       "      <td>...</td>\n",
       "      <td>0</td>\n",
       "      <td>1</td>\n",
       "      <td>0</td>\n",
       "      <td>0</td>\n",
       "      <td>0</td>\n",
       "      <td>1</td>\n",
       "      <td>0</td>\n",
       "      <td>1</td>\n",
       "      <td>0</td>\n",
       "      <td>0</td>\n",
       "    </tr>\n",
       "    <tr>\n",
       "      <th>45115</th>\n",
       "      <td>Transfer</td>\n",
       "      <td>-0.460450</td>\n",
       "      <td>10</td>\n",
       "      <td>1</td>\n",
       "      <td>1</td>\n",
       "      <td>0</td>\n",
       "      <td>1</td>\n",
       "      <td>0</td>\n",
       "      <td>0</td>\n",
       "      <td>0</td>\n",
       "      <td>...</td>\n",
       "      <td>0</td>\n",
       "      <td>1</td>\n",
       "      <td>0</td>\n",
       "      <td>0</td>\n",
       "      <td>0</td>\n",
       "      <td>0</td>\n",
       "      <td>0</td>\n",
       "      <td>1</td>\n",
       "      <td>0</td>\n",
       "      <td>0</td>\n",
       "    </tr>\n",
       "    <tr>\n",
       "      <th>38482</th>\n",
       "      <td>Adoption</td>\n",
       "      <td>-0.417858</td>\n",
       "      <td>6</td>\n",
       "      <td>1</td>\n",
       "      <td>0</td>\n",
       "      <td>0</td>\n",
       "      <td>0</td>\n",
       "      <td>0</td>\n",
       "      <td>1</td>\n",
       "      <td>0</td>\n",
       "      <td>...</td>\n",
       "      <td>0</td>\n",
       "      <td>1</td>\n",
       "      <td>0</td>\n",
       "      <td>0</td>\n",
       "      <td>0</td>\n",
       "      <td>1</td>\n",
       "      <td>0</td>\n",
       "      <td>0</td>\n",
       "      <td>1</td>\n",
       "      <td>0</td>\n",
       "    </tr>\n",
       "    <tr>\n",
       "      <th>862</th>\n",
       "      <td>Euthanasia</td>\n",
       "      <td>1.634465</td>\n",
       "      <td>9</td>\n",
       "      <td>1</td>\n",
       "      <td>1</td>\n",
       "      <td>0</td>\n",
       "      <td>0</td>\n",
       "      <td>0</td>\n",
       "      <td>1</td>\n",
       "      <td>0</td>\n",
       "      <td>...</td>\n",
       "      <td>1</td>\n",
       "      <td>0</td>\n",
       "      <td>0</td>\n",
       "      <td>0</td>\n",
       "      <td>0</td>\n",
       "      <td>1</td>\n",
       "      <td>1</td>\n",
       "      <td>0</td>\n",
       "      <td>0</td>\n",
       "      <td>0</td>\n",
       "    </tr>\n",
       "    <tr>\n",
       "      <th>15865</th>\n",
       "      <td>Adoption</td>\n",
       "      <td>-0.445592</td>\n",
       "      <td>6</td>\n",
       "      <td>1</td>\n",
       "      <td>1</td>\n",
       "      <td>0</td>\n",
       "      <td>1</td>\n",
       "      <td>0</td>\n",
       "      <td>0</td>\n",
       "      <td>0</td>\n",
       "      <td>...</td>\n",
       "      <td>0</td>\n",
       "      <td>1</td>\n",
       "      <td>0</td>\n",
       "      <td>0</td>\n",
       "      <td>1</td>\n",
       "      <td>0</td>\n",
       "      <td>0</td>\n",
       "      <td>1</td>\n",
       "      <td>0</td>\n",
       "      <td>0</td>\n",
       "    </tr>\n",
       "  </tbody>\n",
       "</table>\n",
       "<p>31019 rows × 23 columns</p>\n",
       "</div>"
      ],
      "text/plain": [
       "      Outcome Type  Age in days upon income  Time Spent in Shelter  Neutered  \\\n",
       "34117     Transfer                 0.186349                     18         1   \n",
       "39399     Transfer                -0.476298                      9         1   \n",
       "8061      Transfer                -0.324751                      1         0   \n",
       "1088      Transfer                -0.325741                     45         1   \n",
       "45403       Foster                -0.506013                    106         1   \n",
       "...            ...                      ...                    ...       ...   \n",
       "6304      Adoption                 1.271941                      2         1   \n",
       "45115     Transfer                -0.460450                     10         1   \n",
       "38482     Adoption                -0.417858                      6         1   \n",
       "862     Euthanasia                 1.634465                      9         1   \n",
       "15865     Adoption                -0.445592                      6         1   \n",
       "\n",
       "       Mix  itype_Euthanasia Request  itype_Owner Surrender  \\\n",
       "34117    1                         0                      1   \n",
       "39399    0                         0                      0   \n",
       "8061     1                         0                      0   \n",
       "1088     1                         0                      0   \n",
       "45403    0                         0                      0   \n",
       "...    ...                       ...                    ...   \n",
       "6304     1                         0                      1   \n",
       "45115    1                         0                      1   \n",
       "38482    0                         0                      0   \n",
       "862      1                         0                      0   \n",
       "15865    1                         0                      1   \n",
       "\n",
       "       itype_Public Assist  itype_Stray  icond_Medical  ...  bcat_Long Hair  \\\n",
       "34117                    0            0              0  ...               0   \n",
       "39399                    0            1              0  ...               0   \n",
       "8061                     0            1              0  ...               1   \n",
       "1088                     0            1              0  ...               0   \n",
       "45403                    0            1              0  ...               0   \n",
       "...                    ...          ...            ...  ...             ...   \n",
       "6304                     0            0              0  ...               0   \n",
       "45115                    0            0              0  ...               0   \n",
       "38482                    0            1              0  ...               0   \n",
       "862                      0            1              0  ...               1   \n",
       "15865                    0            0              0  ...               0   \n",
       "\n",
       "       bcat_Short Hair  patt_Brindle  patt_Point  patt_Solid  patt_Striped  \\\n",
       "34117                1             0           0           0             0   \n",
       "39399                1             0           0           0             0   \n",
       "8061                 0             0           0           1             0   \n",
       "1088                 1             0           0           0             1   \n",
       "45403                1             0           0           1             0   \n",
       "...                ...           ...         ...         ...           ...   \n",
       "6304                 1             0           0           0             1   \n",
       "45115                1             0           0           0             0   \n",
       "38482                1             0           0           0             1   \n",
       "862                  0             0           0           0             1   \n",
       "15865                1             0           0           1             0   \n",
       "\n",
       "       ccat_Blue/Greyish  ccat_Dark  ccat_Light  ccat_Red/Orangeish  \n",
       "34117                  0          1           0                   0  \n",
       "39399                  0          1           0                   0  \n",
       "8061                   0          0           0                   0  \n",
       "1088                   1          0           0                   0  \n",
       "45403                  0          0           0                   0  \n",
       "...                  ...        ...         ...                 ...  \n",
       "6304                   0          1           0                   0  \n",
       "45115                  0          1           0                   0  \n",
       "38482                  0          0           1                   0  \n",
       "862                    1          0           0                   0  \n",
       "15865                  0          1           0                   0  \n",
       "\n",
       "[31019 rows x 23 columns]"
      ]
     },
     "execution_count": 504,
     "metadata": {},
     "output_type": "execute_result"
    }
   ],
   "source": [
    "cat_train"
   ]
  },
  {
   "cell_type": "markdown",
   "metadata": {},
   "source": [
    "## Classification"
   ]
  },
  {
   "cell_type": "markdown",
   "metadata": {},
   "source": [
    "### Dog"
   ]
  },
  {
   "cell_type": "markdown",
   "metadata": {},
   "source": [
    "First we will start by using our classification model on our dog datasets.\n",
    "\n",
    "Let us do a two outcome classification, the outcomes being: positive outcomes (adopted, returned to owner or fostered) or negative outcomes (being transferred or euthanised).\n",
    "\n",
    "In order turn our outcome types into binary data, I used the following function."
   ]
  },
  {
   "cell_type": "code",
   "execution_count": 505,
   "metadata": {},
   "outputs": [],
   "source": [
    "## Turn outcome type into binary of positive and negative outcomes\n",
    "def fix_y(df):\n",
    "    '''Function to provide 2 outcomes for modelling\n",
    "    \n",
    "    parameters:\n",
    "    - df: dataframe of dog or cat dataset\n",
    "    \n",
    "    output:\n",
    "    dataset where outcome types have 1 or 0 values'''\n",
    "    df['Outcome Type'] = df['Outcome Type'].map({'Adoption':1, 'Return to Owner':1, 'Transfer':0, 'Foster':1, 'Euthanasia':0})\n",
    "    return df"
   ]
  },
  {
   "cell_type": "markdown",
   "metadata": {},
   "source": [
    "Use the function on a copy of the original datasets to ensure that the cleaning required for this model does not carry over into future models."
   ]
  },
  {
   "cell_type": "code",
   "execution_count": 506,
   "metadata": {},
   "outputs": [],
   "source": [
    "X_dog_train = fix_y(dog_train.copy())\n",
    "X_dog_test = fix_y(dog_test.copy())\n",
    "X_cat_train = fix_y(cat_train.copy())\n",
    "X_cat_test = fix_y(cat_test.copy())"
   ]
  },
  {
   "cell_type": "markdown",
   "metadata": {},
   "source": [
    "Next I have split the train and test data sets into the x (columns we want to model on) and y (the actual outcomes for testing the accuracy of the model)."
   ]
  },
  {
   "cell_type": "code",
   "execution_count": 507,
   "metadata": {},
   "outputs": [],
   "source": [
    "## Pick x and y\n",
    "y_dog_train = X_dog_train['Outcome Type']\n",
    "X_dog_train = X_dog_train[['Age in days upon income', 'Neutered', 'Mix',\n",
    "       'itype_Euthanasia Request', 'itype_Owner Surrender',\n",
    "       'itype_Public Assist', 'itype_Stray', 'icond_Medical', 'icond_Normal',\n",
    "       'icond_Other', 'sex_Male', 'bcat_Herding', 'bcat_Hound', 'bcat_Racing',\n",
    "       'bcat_Sporting', 'bcat_Terrier', 'bcat_Companion', 'bcat_Working',\n",
    "       'size_Large', 'size_Medium', 'size_Small', 'size_Toy', 'ccat_Dark',\n",
    "       'ccat_Light', 'ccat_Merle', 'ccat_Red/Orangeish']]"
   ]
  },
  {
   "cell_type": "code",
   "execution_count": 508,
   "metadata": {},
   "outputs": [],
   "source": [
    "y_dog_test = X_dog_test['Outcome Type']\n",
    "X_dog_test = X_dog_test[['Age in days upon income', 'Neutered', 'Mix',\n",
    "       'itype_Euthanasia Request', 'itype_Owner Surrender',\n",
    "       'itype_Public Assist', 'itype_Stray', 'icond_Medical', 'icond_Normal',\n",
    "       'icond_Other', 'sex_Male', 'bcat_Herding', 'bcat_Hound', 'bcat_Racing',\n",
    "       'bcat_Sporting', 'bcat_Terrier', 'bcat_Companion', 'bcat_Working',\n",
    "       'size_Large', 'size_Medium', 'size_Small', 'size_Toy', 'ccat_Dark',\n",
    "       'ccat_Light', 'ccat_Merle', 'ccat_Red/Orangeish']]"
   ]
  },
  {
   "cell_type": "markdown",
   "metadata": {},
   "source": [
    "I tried many other models to see which provides the best accuracy scores and SVM appears to be the best model.\n",
    "\n",
    "Hence, I have chosen an SVM model with these parameters using trial and error. I attempted to use grid search to find the optimal parameters, however, it took too much time and after waiting half a day, I never recieved anything."
   ]
  },
  {
   "cell_type": "code",
   "execution_count": 509,
   "metadata": {},
   "outputs": [
    {
     "data": {
      "text/plain": [
       "SVC(C=0.1, gamma=0.5)"
      ]
     },
     "execution_count": 509,
     "metadata": {},
     "output_type": "execute_result"
    }
   ],
   "source": [
    "## Modelling SVM\n",
    "dog_model = SVC(gamma= 0.5             #0.5\n",
    "              , kernel='rbf'\n",
    "              , C= 0.1)                 #0.1)\n",
    "dog_model.fit(X_dog_train, y_dog_train)"
   ]
  },
  {
   "cell_type": "code",
   "execution_count": 510,
   "metadata": {},
   "outputs": [],
   "source": [
    "## Predict on train\n",
    "X_dog_train['y_pred'] = dog_model.predict(X_dog_train)"
   ]
  },
  {
   "cell_type": "code",
   "execution_count": 511,
   "metadata": {},
   "outputs": [
    {
     "name": "stdout",
     "output_type": "stream",
     "text": [
      "Train: 0.8168192513791944\n"
     ]
    }
   ],
   "source": [
    "print(f\"Train: {accuracy_score(X_dog_train['y_pred'], y_dog_train)}\")"
   ]
  },
  {
   "cell_type": "code",
   "execution_count": 512,
   "metadata": {},
   "outputs": [],
   "source": [
    "## Predict on Test\n",
    "X_dog_test['y_pred'] = dog_model.predict(X_dog_test)"
   ]
  },
  {
   "cell_type": "markdown",
   "metadata": {},
   "source": [
    "This model is not overfitted as train is very similar to test, making this a good model so far."
   ]
  },
  {
   "cell_type": "code",
   "execution_count": 513,
   "metadata": {},
   "outputs": [
    {
     "name": "stdout",
     "output_type": "stream",
     "text": [
      "Test: 0.8141040462427745\n"
     ]
    }
   ],
   "source": [
    "print(f\"Test: {accuracy_score(X_dog_test['y_pred'], y_dog_test)}\")"
   ]
  },
  {
   "cell_type": "code",
   "execution_count": 514,
   "metadata": {},
   "outputs": [
    {
     "data": {
      "text/plain": [
       "0.8249149437320074"
      ]
     },
     "execution_count": 514,
     "metadata": {},
     "output_type": "execute_result"
    }
   ],
   "source": [
    "precision_score(y_dog_test,X_dog_test['y_pred'])"
   ]
  },
  {
   "cell_type": "code",
   "execution_count": 515,
   "metadata": {},
   "outputs": [
    {
     "data": {
      "text/plain": [
       "0.9589291146942501"
      ]
     },
     "execution_count": 515,
     "metadata": {},
     "output_type": "execute_result"
    }
   ],
   "source": [
    "recall_score(y_dog_test, X_dog_test['y_pred'])"
   ]
  },
  {
   "cell_type": "code",
   "execution_count": 516,
   "metadata": {},
   "outputs": [
    {
     "name": "stdout",
     "output_type": "stream",
     "text": [
      "Test accuracy =  0.8141040462427745\n",
      "Test precision =  0.8249149437320074\n",
      "Test recall =  0.9589291146942501\n"
     ]
    },
    {
     "data": {
      "image/png": "[encoded data removed]",
      "text/plain": [
       "<Figure size 432x288 with 2 Axes>"
      ]
     },
     "metadata": {
      "needs_background": "light"
     },
     "output_type": "display_data"
    }
   ],
   "source": [
    "#Define confusion matrix and metrics\n",
    "def produce_confusion(positive_label, negative_label, df, y_pred_name, y_real_name):\n",
    "    '''Function to create a confusion matrix and provide accuracy, precision and recall values.\n",
    "    \n",
    "    parameters:\n",
    "    - positive_label: string value of name of positive outcome\n",
    "    - negative_label: string value of name of negative outcome\n",
    "    - df: dataframe of dog or cat dataset\n",
    "    - y_pred_name: series containing predicited y values from model\n",
    "    - y_real_name: series containing actual y values from data\n",
    "    \n",
    "    output:\n",
    "    confusion matrix and precision, accuracy and recall values'''\n",
    "    \n",
    "    #Set pred to 0 or 1 depending on whether it's higher than the cut_off point.\n",
    "    df['pred_binary'] = df[y_pred_name]\n",
    "    \n",
    "    #Build the CM\n",
    "    cm = confusion_matrix(y_real_name, df['pred_binary'])  \n",
    "    \n",
    "    ax= plt.subplot()\n",
    "    sns.heatmap(cm, annot=True, ax=ax, fmt='g', cmap = plt.cm.Blues); \n",
    "\n",
    "    # labels, title, ticks\n",
    "    ax.set_xlabel('Predicted labels');ax.set_ylabel('Real labels'); \n",
    "    ax.set_title('Confusion Matrix'); \n",
    "    ax.xaxis.set_ticklabels([negative_label, positive_label])\n",
    "    ax.yaxis.set_ticklabels([negative_label, positive_label]);\n",
    "\n",
    "    print('Test accuracy = ', accuracy_score(y_real_name, df['pred_binary']))\n",
    "    print('Test precision = ', precision_score(y_real_name, df['pred_binary']))\n",
    "    print('Test recall = ', recall_score(y_real_name, df['pred_binary']))\n",
    "\n",
    "    return accuracy_score(y_real_name, df['pred_binary'])\n",
    "accuracy = produce_confusion('Positive Outcome', 'Negative Outcome', X_dog_test, 'y_pred', y_dog_test)"
   ]
  },
  {
   "cell_type": "markdown",
   "metadata": {},
   "source": [
    "As the use of this model will affect the lives of dogs and the chance they have of a better life, we want to keep the number of false negatives as low as possible (we don't want to euthanise or send away dogs with a chance at finding a home). \n",
    "\n",
    "Luckily, as you can see from the confusion matrix above, the number of dogs with a predicted negative outcome, who have actually had a positive outcome are a lot lower than the other predictions. Hence, I believe this makes this SVM model, fit for purpose."
   ]
  },
  {
   "cell_type": "code",
   "execution_count": 517,
   "metadata": {},
   "outputs": [],
   "source": [
    "for i in [X_dog_train, X_dog_test]:\n",
    "    try:\n",
    "        i.drop('y_pred', axis = 1, inplace = True)\n",
    "    except:\n",
    "        print('y_pred dropped')"
   ]
  },
  {
   "cell_type": "code",
   "execution_count": 518,
   "metadata": {},
   "outputs": [
    {
     "name": "stdout",
     "output_type": "stream",
     "text": [
      "pred_binary dropped\n"
     ]
    }
   ],
   "source": [
    "for i in [X_dog_train, X_dog_test]:\n",
    "    try:\n",
    "        i.drop('pred_binary', axis = 1, inplace = True)\n",
    "    except:\n",
    "        print('pred_binary dropped')"
   ]
  },
  {
   "cell_type": "code",
   "execution_count": 519,
   "metadata": {},
   "outputs": [
    {
     "data": {
      "text/plain": [
       "Index(['Age in days upon income', 'Neutered', 'Mix',\n",
       "       'itype_Euthanasia Request', 'itype_Owner Surrender',\n",
       "       'itype_Public Assist', 'itype_Stray', 'icond_Medical', 'icond_Normal',\n",
       "       'icond_Other', 'sex_Male', 'bcat_Herding', 'bcat_Hound', 'bcat_Racing',\n",
       "       'bcat_Sporting', 'bcat_Terrier', 'bcat_Companion', 'bcat_Working',\n",
       "       'size_Large', 'size_Medium', 'size_Small', 'size_Toy', 'ccat_Dark',\n",
       "       'ccat_Light', 'ccat_Merle', 'ccat_Red/Orangeish'],\n",
       "      dtype='object')"
      ]
     },
     "execution_count": 519,
     "metadata": {},
     "output_type": "execute_result"
    }
   ],
   "source": [
    "X_dog_train.columns"
   ]
  },
  {
   "cell_type": "code",
   "execution_count": 520,
   "metadata": {},
   "outputs": [
    {
     "data": {
      "text/plain": [
       "Index(['Age in days upon income', 'Neutered', 'Mix',\n",
       "       'itype_Euthanasia Request', 'itype_Owner Surrender',\n",
       "       'itype_Public Assist', 'itype_Stray', 'icond_Medical', 'icond_Normal',\n",
       "       'icond_Other', 'sex_Male', 'bcat_Herding', 'bcat_Hound', 'bcat_Racing',\n",
       "       'bcat_Sporting', 'bcat_Terrier', 'bcat_Companion', 'bcat_Working',\n",
       "       'size_Large', 'size_Medium', 'size_Small', 'size_Toy', 'ccat_Dark',\n",
       "       'ccat_Light', 'ccat_Merle', 'ccat_Red/Orangeish'],\n",
       "      dtype='object')"
      ]
     },
     "execution_count": 520,
     "metadata": {},
     "output_type": "execute_result"
    }
   ],
   "source": [
    "X_dog_test.columns"
   ]
  },
  {
   "cell_type": "markdown",
   "metadata": {},
   "source": [
    "#### Other models"
   ]
  },
  {
   "cell_type": "markdown",
   "metadata": {},
   "source": [
    "This section will let you see random forest classifier and decision tree models, I used to see if I could improve my accuracy scores."
   ]
  },
  {
   "cell_type": "code",
   "execution_count": 521,
   "metadata": {},
   "outputs": [],
   "source": [
    "## Modelling Random Forest\n",
    "dog_model_tree = RandomForestClassifier(random_state=124)   \n",
    "dog_model_tree.fit(X_dog_train, y_dog_train)\n",
    "X_dog_train['y_pred'] = dog_model_tree.predict(X_dog_train)\n",
    "X_dog_test['y_pred'] = dog_model_tree.predict(X_dog_test)"
   ]
  },
  {
   "cell_type": "markdown",
   "metadata": {},
   "source": [
    "As you can see below, this model overfits, meaning test accuracy is very different from train making this a not so great model.\n",
    "\n",
    "It also focuses on precision rather than recall, where recall is more important for us."
   ]
  },
  {
   "cell_type": "code",
   "execution_count": 522,
   "metadata": {},
   "outputs": [
    {
     "name": "stdout",
     "output_type": "stream",
     "text": [
      "Train: 0.9225871512467126\n",
      "Test: 0.7716069364161849\n",
      "Recall: 0.8294360385144429\n",
      "Precision: 0.8805597809552783\n"
     ]
    }
   ],
   "source": [
    "print(f\"Train: {accuracy_score(X_dog_train['y_pred'], y_dog_train)}\")\n",
    "print(f\"Test: {accuracy_score(X_dog_test['y_pred'], y_dog_test)}\")\n",
    "print(f\"Recall: {recall_score(X_dog_test['y_pred'], y_dog_test)}\")\n",
    "print(f\"Precision: {precision_score(X_dog_test['y_pred'], y_dog_test)}\")"
   ]
  },
  {
   "cell_type": "markdown",
   "metadata": {},
   "source": [
    "Remove y_pred and pred_binary"
   ]
  },
  {
   "cell_type": "code",
   "execution_count": 523,
   "metadata": {},
   "outputs": [],
   "source": [
    "for i in [X_dog_train, X_dog_test]:\n",
    "    try:\n",
    "        i.drop('y_pred', axis = 1, inplace = True)\n",
    "    except:\n",
    "        print('y_pred dropped')"
   ]
  },
  {
   "cell_type": "code",
   "execution_count": 524,
   "metadata": {},
   "outputs": [
    {
     "name": "stdout",
     "output_type": "stream",
     "text": [
      "pred_binary dropped\n",
      "pred_binary dropped\n"
     ]
    }
   ],
   "source": [
    "for i in [X_dog_train, X_dog_test]:\n",
    "    try:\n",
    "        i.drop('pred_binary', axis = 1, inplace = True)\n",
    "    except:\n",
    "        print('pred_binary dropped')"
   ]
  },
  {
   "cell_type": "markdown",
   "metadata": {},
   "source": [
    "Here, I used 0.5 as my cut off point as it give the best accuracy and recall scores (checked by trial and error), which are most important for this context."
   ]
  },
  {
   "cell_type": "code",
   "execution_count": 525,
   "metadata": {},
   "outputs": [
    {
     "name": "stdout",
     "output_type": "stream",
     "text": [
      "Optimization terminated successfully.\n",
      "         Current function value: 0.459421\n",
      "         Iterations 7\n"
     ]
    }
   ],
   "source": [
    "## Modelling Decision tree\n",
    "dog_model_log = sm.Logit(y_dog_train, X_dog_train).fit()\n",
    "dog_model_log.summary()\n",
    "X_dog_train['y_pred'] = dog_model_log.predict(X_dog_train)\n",
    "X_dog_test['y_pred'] = dog_model_log.predict(X_dog_test)\n",
    "X_dog_train['pred_binary'] = np.where(X_dog_train['y_pred'] > 0.5 , 1, 0)\n",
    "X_dog_test['pred_binary'] = np.where(X_dog_test['y_pred'] > 0.5 , 1, 0)"
   ]
  },
  {
   "cell_type": "markdown",
   "metadata": {},
   "source": [
    "This model is not overfitted, however the recall and precision scores are weaker than that of SVM."
   ]
  },
  {
   "cell_type": "code",
   "execution_count": 526,
   "metadata": {},
   "outputs": [
    {
     "name": "stdout",
     "output_type": "stream",
     "text": [
      "Train: 0.8057263757340873\n",
      "Test: 0.8048092485549133\n",
      "Recall: 0.8240131578947368\n",
      "Precision: 0.9449954365682993\n"
     ]
    }
   ],
   "source": [
    "print(f\"Train: {accuracy_score(X_dog_train['pred_binary'], y_dog_train)}\")\n",
    "print(f\"Test: {accuracy_score(X_dog_test['pred_binary'], y_dog_test)}\")\n",
    "print(f\"Recall: {recall_score(X_dog_test['pred_binary'], y_dog_test)}\")\n",
    "print(f\"Precision: {precision_score(X_dog_test['pred_binary'], y_dog_test)}\")"
   ]
  },
  {
   "cell_type": "code",
   "execution_count": 527,
   "metadata": {},
   "outputs": [],
   "source": [
    "for i in [X_dog_train, X_dog_test]:\n",
    "    try:\n",
    "        i.drop('y_pred', axis = 1, inplace = True)\n",
    "    except:\n",
    "        print('y_pred dropped')"
   ]
  },
  {
   "cell_type": "markdown",
   "metadata": {},
   "source": [
    "### Cat"
   ]
  },
  {
   "cell_type": "markdown",
   "metadata": {},
   "source": [
    "After finding the best possible model for classification, I next, modelled SVM on the cat data."
   ]
  },
  {
   "cell_type": "code",
   "execution_count": 528,
   "metadata": {},
   "outputs": [],
   "source": [
    "## Pick x and y\n",
    "y_cat_train = X_cat_train['Outcome Type'].copy()\n",
    "X_cat_train = X_cat_train[['Age in days upon income',\n",
    "       'Neutered', 'Mix', 'itype_Euthanasia Request', 'itype_Owner Surrender',\n",
    "       'itype_Public Assist', 'itype_Stray', 'icond_Medical', 'icond_Normal',\n",
    "       'icond_Other', 'sex_Male', 'bcat_Long Hair', 'bcat_Short Hair',\n",
    "       'patt_Brindle', 'patt_Point', 'patt_Solid', 'patt_Striped',\n",
    "       'ccat_Blue/Greyish', 'ccat_Dark', 'ccat_Light', 'ccat_Red/Orangeish']]"
   ]
  },
  {
   "cell_type": "code",
   "execution_count": 529,
   "metadata": {},
   "outputs": [],
   "source": [
    "y_cat_test = X_cat_test['Outcome Type'].copy()\n",
    "X_cat_test['patt_Brindle'] = 0\n",
    "X_cat_test = X_cat_test[['Age in days upon income',\n",
    "       'Neutered', 'Mix', 'itype_Euthanasia Request', 'itype_Owner Surrender',\n",
    "       'itype_Public Assist', 'itype_Stray', 'icond_Medical', 'icond_Normal',\n",
    "       'icond_Other', 'sex_Male', 'bcat_Long Hair', 'bcat_Short Hair',\n",
    "       'patt_Brindle', 'patt_Point', 'patt_Solid', 'patt_Striped',\n",
    "       'ccat_Blue/Greyish', 'ccat_Dark', 'ccat_Light', 'ccat_Red/Orangeish']]"
   ]
  },
  {
   "cell_type": "code",
   "execution_count": 530,
   "metadata": {},
   "outputs": [
    {
     "data": {
      "text/plain": [
       "SVC(C=0.1, gamma=0.5)"
      ]
     },
     "execution_count": 530,
     "metadata": {},
     "output_type": "execute_result"
    }
   ],
   "source": [
    "## Model SVM\n",
    "cat_model = SVC(gamma=0.5\n",
    "              , kernel='rbf'\n",
    "              , C=0.1)\n",
    "cat_model.fit(X_cat_train, y_cat_train)"
   ]
  },
  {
   "cell_type": "code",
   "execution_count": 531,
   "metadata": {},
   "outputs": [],
   "source": [
    "## Predict on train\n",
    "X_cat_train['y_pred'] = cat_model.predict(X_cat_train)"
   ]
  },
  {
   "cell_type": "code",
   "execution_count": 532,
   "metadata": {},
   "outputs": [
    {
     "name": "stdout",
     "output_type": "stream",
     "text": [
      "Train: 0.8396789064766755\n"
     ]
    }
   ],
   "source": [
    "print(f\"Train: {accuracy_score(X_cat_train['y_pred'], y_cat_train)}\")"
   ]
  },
  {
   "cell_type": "code",
   "execution_count": 533,
   "metadata": {},
   "outputs": [],
   "source": [
    "## Predict on test\n",
    "X_cat_test['y_pred'] = cat_model.predict(X_cat_test)"
   ]
  },
  {
   "cell_type": "code",
   "execution_count": 534,
   "metadata": {},
   "outputs": [
    {
     "name": "stdout",
     "output_type": "stream",
     "text": [
      "Test: 0.841712519785935\n"
     ]
    }
   ],
   "source": [
    "print(f\"Test: {accuracy_score(X_cat_test['y_pred'], y_cat_test)}\")"
   ]
  },
  {
   "cell_type": "code",
   "execution_count": 535,
   "metadata": {},
   "outputs": [
    {
     "data": {
      "text/plain": [
       "0.9411842980705256"
      ]
     },
     "execution_count": 535,
     "metadata": {},
     "output_type": "execute_result"
    }
   ],
   "source": [
    "precision_score(X_cat_test['y_pred'], y_cat_test)"
   ]
  },
  {
   "cell_type": "code",
   "execution_count": 536,
   "metadata": {},
   "outputs": [
    {
     "data": {
      "text/plain": [
       "0.8101019356316573"
      ]
     },
     "execution_count": 536,
     "metadata": {},
     "output_type": "execute_result"
    }
   ],
   "source": [
    "recall_score(X_cat_test['y_pred'], y_cat_test)"
   ]
  },
  {
   "cell_type": "code",
   "execution_count": 537,
   "metadata": {},
   "outputs": [
    {
     "name": "stdout",
     "output_type": "stream",
     "text": [
      "Test accuracy =  0.841712519785935\n",
      "Test precision =  0.8101019356316573\n",
      "Test recall =  0.9411842980705256\n"
     ]
    },
    {
     "data": {
      "image/png": "[encoded data removed]",
      "text/plain": [
       "<Figure size 432x288 with 2 Axes>"
      ]
     },
     "metadata": {
      "needs_background": "light"
     },
     "output_type": "display_data"
    }
   ],
   "source": [
    "accuracy = produce_confusion('Positive Outcome', 'Negative Outcome', X_cat_test, 'y_pred', y_cat_test)"
   ]
  },
  {
   "cell_type": "markdown",
   "metadata": {},
   "source": [
    "Once again, we have high recall and accuracy, which as we discussed in the dog classification section, is highly important for this dataset."
   ]
  },
  {
   "cell_type": "code",
   "execution_count": 538,
   "metadata": {},
   "outputs": [],
   "source": [
    "for i in [X_cat_train, X_cat_test]:\n",
    "    try:\n",
    "        i.drop('y_pred', axis = 1, inplace = True)\n",
    "    except:\n",
    "        print('y_pred dropped')"
   ]
  },
  {
   "cell_type": "markdown",
   "metadata": {},
   "source": [
    "### 5 outcome SVM"
   ]
  },
  {
   "cell_type": "markdown",
   "metadata": {},
   "source": [
    "Next, I once again, used SVM to classify the data on 5 outcomes: Adoption, Return to Owner, Foster, Euthanised and Transferred.\n",
    "\n",
    "These datasets no longer require further cleaning and so I just made a copy of the original datasets."
   ]
  },
  {
   "cell_type": "code",
   "execution_count": 539,
   "metadata": {},
   "outputs": [],
   "source": [
    "## Create test and train datasets\n",
    "X_dog_train2 = dog_train.copy()\n",
    "X_dog_test2 = dog_test.copy()\n",
    "X_cat_train2 = cat_train.copy()\n",
    "X_cat_test2 = cat_test.copy()"
   ]
  },
  {
   "cell_type": "code",
   "execution_count": 540,
   "metadata": {},
   "outputs": [],
   "source": [
    "## Pick x and y\n",
    "y_dog_train2 = X_dog_train2['Outcome Type']\n",
    "X_dog_train2 = X_dog_train2[['Age in days upon income', 'Neutered', 'Mix',\n",
    "       'itype_Euthanasia Request', 'itype_Owner Surrender',\n",
    "       'itype_Public Assist', 'itype_Stray', 'icond_Medical', 'icond_Normal',\n",
    "       'icond_Other', 'sex_Male', 'bcat_Herding', 'bcat_Hound', 'bcat_Racing',\n",
    "       'bcat_Sporting', 'bcat_Terrier', 'bcat_Companion', 'bcat_Working',\n",
    "       'size_Large', 'size_Medium', 'size_Small', 'size_Toy', 'ccat_Dark',\n",
    "       'ccat_Light', 'ccat_Merle', 'ccat_Red/Orangeish']]"
   ]
  },
  {
   "cell_type": "code",
   "execution_count": 541,
   "metadata": {},
   "outputs": [],
   "source": [
    "y_dog_test2 = X_dog_test2['Outcome Type']\n",
    "X_dog_test2 = X_dog_test2[['Age in days upon income', 'Neutered', 'Mix',\n",
    "       'itype_Euthanasia Request', 'itype_Owner Surrender',\n",
    "       'itype_Public Assist', 'itype_Stray', 'icond_Medical', 'icond_Normal',\n",
    "       'icond_Other', 'sex_Male', 'bcat_Herding', 'bcat_Hound', 'bcat_Racing',\n",
    "       'bcat_Sporting', 'bcat_Terrier', 'bcat_Companion', 'bcat_Working',\n",
    "       'size_Large', 'size_Medium', 'size_Small', 'size_Toy', 'ccat_Dark',\n",
    "       'ccat_Light', 'ccat_Merle', 'ccat_Red/Orangeish']]"
   ]
  },
  {
   "cell_type": "markdown",
   "metadata": {},
   "source": [
    "Once again I used trial and error however, the parameters did not change."
   ]
  },
  {
   "cell_type": "code",
   "execution_count": 542,
   "metadata": {},
   "outputs": [
    {
     "data": {
      "text/plain": [
       "SVC(C=0.1, gamma=0.5)"
      ]
     },
     "execution_count": 542,
     "metadata": {},
     "output_type": "execute_result"
    }
   ],
   "source": [
    "## model SVM\n",
    "dog_model2 = SVC(gamma= 0.5             #0.5\n",
    "              , kernel='rbf'\n",
    "              , C= 0.1)                 #0.1)\n",
    "dog_model2.fit(X_dog_train2, y_dog_train2)"
   ]
  },
  {
   "cell_type": "code",
   "execution_count": 543,
   "metadata": {},
   "outputs": [],
   "source": [
    "## Predict on train\n",
    "X_dog_train2['y_pred'] = dog_model2.predict(X_dog_train2)"
   ]
  },
  {
   "cell_type": "code",
   "execution_count": 544,
   "metadata": {},
   "outputs": [],
   "source": [
    "from sklearn.metrics import classification_report"
   ]
  },
  {
   "cell_type": "markdown",
   "metadata": {},
   "source": [
    "The accuracy score is relatively high given 5 outcomes, a random guess would give you 0.2 accuracy."
   ]
  },
  {
   "cell_type": "code",
   "execution_count": 545,
   "metadata": {},
   "outputs": [
    {
     "data": {
      "text/plain": [
       "0.6222885729539478"
      ]
     },
     "execution_count": 545,
     "metadata": {},
     "output_type": "execute_result"
    }
   ],
   "source": [
    "accuracy_score(X_dog_train2['y_pred'], y_dog_train2)"
   ]
  },
  {
   "cell_type": "markdown",
   "metadata": {},
   "source": [
    "The adoption and foster scores are relatively good, and although euthanasia is giving us a low recall, that is positive in our context as it gives dogs a chance at life. Return to Owner and transfer however are not trustworthy and should be ignored.\n",
    "\n",
    "Although this is not a great model for 5 outcomes, it does give use a model that can be used to see if an animal should be advertised for adoption or foster."
   ]
  },
  {
   "cell_type": "code",
   "execution_count": 546,
   "metadata": {},
   "outputs": [
    {
     "name": "stderr",
     "output_type": "stream",
     "text": [
      "C:\\Users\\lhall\\anaconda3\\lib\\site-packages\\sklearn\\metrics\\_classification.py:1221: UndefinedMetricWarning: Precision and F-score are ill-defined and being set to 0.0 in labels with no predicted samples. Use `zero_division` parameter to control this behavior.\n",
      "  _warn_prf(average, modifier, msg_start, len(result))\n"
     ]
    },
    {
     "name": "stdout",
     "output_type": "stream",
     "text": [
      "                 precision    recall  f1-score   support\n",
      "\n",
      "       Adoption       0.61      0.90      0.73     21121\n",
      "Return to Owner       1.00      0.00      0.00      1241\n",
      "       Transfer       0.00      0.00      0.00      3352\n",
      "         Foster       0.63      0.60      0.61     14026\n",
      "     Euthanasia       0.66      0.38      0.49     10833\n",
      "\n",
      "       accuracy                           0.62     50573\n",
      "      macro avg       0.58      0.38      0.37     50573\n",
      "   weighted avg       0.60      0.62      0.58     50573\n",
      "\n"
     ]
    }
   ],
   "source": [
    "target_names = ['Adoption', 'Return to Owner', 'Transfer', 'Foster', 'Euthanasia']\n",
    "print(classification_report(y_dog_train2, X_dog_train2['y_pred'], target_names=target_names))"
   ]
  },
  {
   "cell_type": "code",
   "execution_count": 547,
   "metadata": {},
   "outputs": [],
   "source": [
    "## Predict on test\n",
    "X_dog_test2['y_pred'] = dog_model2.predict(X_dog_test2)"
   ]
  },
  {
   "cell_type": "markdown",
   "metadata": {},
   "source": [
    "This is a good test accuracy score as it is very close to the train score. This means the model is not overfitted."
   ]
  },
  {
   "cell_type": "code",
   "execution_count": 548,
   "metadata": {},
   "outputs": [
    {
     "data": {
      "text/plain": [
       "0.6189595375722543"
      ]
     },
     "execution_count": 548,
     "metadata": {},
     "output_type": "execute_result"
    }
   ],
   "source": [
    "accuracy_score(X_dog_test2['y_pred'], y_dog_test2)"
   ]
  },
  {
   "cell_type": "markdown",
   "metadata": {},
   "source": [
    "Once again, these values are almost perfectly in line with the train scores above."
   ]
  },
  {
   "cell_type": "code",
   "execution_count": 549,
   "metadata": {},
   "outputs": [
    {
     "name": "stderr",
     "output_type": "stream",
     "text": [
      "C:\\Users\\lhall\\anaconda3\\lib\\site-packages\\sklearn\\metrics\\_classification.py:1221: UndefinedMetricWarning: Precision and F-score are ill-defined and being set to 0.0 in labels with no predicted samples. Use `zero_division` parameter to control this behavior.\n",
      "  _warn_prf(average, modifier, msg_start, len(result))\n"
     ]
    },
    {
     "name": "stdout",
     "output_type": "stream",
     "text": [
      "                 precision    recall  f1-score   support\n",
      "\n",
      "       Adoption       0.60      0.90      0.72      8858\n",
      "Return to Owner       1.00      0.00      0.00       519\n",
      "       Transfer       0.00      0.00      0.00      1454\n",
      "         Foster       0.63      0.60      0.62      6123\n",
      "     Euthanasia       0.66      0.38      0.48      4671\n",
      "\n",
      "       accuracy                           0.62     21625\n",
      "      macro avg       0.58      0.38      0.36     21625\n",
      "   weighted avg       0.59      0.62      0.57     21625\n",
      "\n"
     ]
    }
   ],
   "source": [
    "print(classification_report(y_dog_test2, X_dog_test2['y_pred'], target_names=target_names))"
   ]
  },
  {
   "cell_type": "code",
   "execution_count": 550,
   "metadata": {},
   "outputs": [],
   "source": [
    "## Same for cat below"
   ]
  },
  {
   "cell_type": "code",
   "execution_count": 551,
   "metadata": {},
   "outputs": [],
   "source": [
    "y_cat_train2 = X_cat_train2['Outcome Type'].copy()\n",
    "X_cat_train2 = X_cat_train2[['Age in days upon income',\n",
    "       'Neutered', 'Mix', 'itype_Euthanasia Request', 'itype_Owner Surrender',\n",
    "       'itype_Public Assist', 'itype_Stray', 'icond_Medical', 'icond_Normal',\n",
    "       'icond_Other', 'sex_Male', 'bcat_Long Hair', 'bcat_Short Hair',\n",
    "       'patt_Brindle', 'patt_Point', 'patt_Solid', 'patt_Striped',\n",
    "       'ccat_Blue/Greyish', 'ccat_Dark', 'ccat_Light', 'ccat_Red/Orangeish']]"
   ]
  },
  {
   "cell_type": "code",
   "execution_count": 552,
   "metadata": {},
   "outputs": [],
   "source": [
    "y_cat_test2 = X_cat_test2['Outcome Type'].copy()\n",
    "X_cat_test2['patt_Brindle'] = 0\n",
    "X_cat_test2 = X_cat_test2[['Age in days upon income',\n",
    "       'Neutered', 'Mix', 'itype_Euthanasia Request', 'itype_Owner Surrender',\n",
    "       'itype_Public Assist', 'itype_Stray', 'icond_Medical', 'icond_Normal',\n",
    "       'icond_Other', 'sex_Male', 'bcat_Long Hair', 'bcat_Short Hair',\n",
    "       'patt_Brindle', 'patt_Point', 'patt_Solid', 'patt_Striped',\n",
    "       'ccat_Blue/Greyish', 'ccat_Dark', 'ccat_Light', 'ccat_Red/Orangeish']]"
   ]
  },
  {
   "cell_type": "code",
   "execution_count": 553,
   "metadata": {},
   "outputs": [
    {
     "data": {
      "text/plain": [
       "SVC(C=0.1, gamma=0.5)"
      ]
     },
     "execution_count": 553,
     "metadata": {},
     "output_type": "execute_result"
    }
   ],
   "source": [
    "## model SVM\n",
    "cat_model2 = SVC(gamma=0.5\n",
    "              , kernel='rbf'\n",
    "              , C=0.1)\n",
    "cat_model2.fit(X_cat_train2, y_cat_train2)"
   ]
  },
  {
   "cell_type": "code",
   "execution_count": 554,
   "metadata": {},
   "outputs": [],
   "source": [
    "X_cat_train2['y_pred'] = cat_model2.predict(X_cat_train2)"
   ]
  },
  {
   "cell_type": "code",
   "execution_count": 555,
   "metadata": {},
   "outputs": [
    {
     "data": {
      "text/plain": [
       "0.6311615461491344"
      ]
     },
     "execution_count": 555,
     "metadata": {},
     "output_type": "execute_result"
    }
   ],
   "source": [
    "accuracy_score(X_cat_train2['y_pred'], y_cat_train2)"
   ]
  },
  {
   "cell_type": "markdown",
   "metadata": {},
   "source": [
    "This report is different to that of dog. Euthanasia is giving very strong results whereas foster is very low for recall.\n",
    "\n",
    "This may mean that when looking at cats, it may be better to focus on adoption and euthanasia."
   ]
  },
  {
   "cell_type": "code",
   "execution_count": 556,
   "metadata": {},
   "outputs": [
    {
     "name": "stderr",
     "output_type": "stream",
     "text": [
      "C:\\Users\\lhall\\anaconda3\\lib\\site-packages\\sklearn\\metrics\\_classification.py:1221: UndefinedMetricWarning: Precision and F-score are ill-defined and being set to 0.0 in labels with no predicted samples. Use `zero_division` parameter to control this behavior.\n",
      "  _warn_prf(average, modifier, msg_start, len(result))\n"
     ]
    },
    {
     "name": "stdout",
     "output_type": "stream",
     "text": [
      "                 precision    recall  f1-score   support\n",
      "\n",
      "       Adoption       0.55      0.89      0.68     11327\n",
      "Return to Owner       0.00      0.00      0.00      1159\n",
      "       Transfer       0.00      0.00      0.00      4564\n",
      "         Foster       0.56      0.12      0.19      1679\n",
      "     Euthanasia       0.75      0.75      0.75     12290\n",
      "\n",
      "       accuracy                           0.63     31019\n",
      "      macro avg       0.37      0.35      0.33     31019\n",
      "   weighted avg       0.53      0.63      0.56     31019\n",
      "\n"
     ]
    }
   ],
   "source": [
    "print(classification_report(y_cat_train2, X_cat_train2['y_pred'], target_names=target_names))"
   ]
  },
  {
   "cell_type": "code",
   "execution_count": 557,
   "metadata": {},
   "outputs": [],
   "source": [
    "X_cat_test2['y_pred'] = cat_model2.predict(X_cat_test2)"
   ]
  },
  {
   "cell_type": "markdown",
   "metadata": {},
   "source": [
    "Once again, this test score is almost exactly the same as the training score."
   ]
  },
  {
   "cell_type": "code",
   "execution_count": 558,
   "metadata": {},
   "outputs": [
    {
     "data": {
      "text/plain": [
       "0.6311901711012287"
      ]
     },
     "execution_count": 558,
     "metadata": {},
     "output_type": "execute_result"
    }
   ],
   "source": [
    "accuracy_score(X_cat_test2['y_pred'], y_cat_test2)"
   ]
  },
  {
   "cell_type": "code",
   "execution_count": 559,
   "metadata": {},
   "outputs": [
    {
     "name": "stderr",
     "output_type": "stream",
     "text": [
      "C:\\Users\\lhall\\anaconda3\\lib\\site-packages\\sklearn\\metrics\\_classification.py:1221: UndefinedMetricWarning: Precision and F-score are ill-defined and being set to 0.0 in labels with no predicted samples. Use `zero_division` parameter to control this behavior.\n",
      "  _warn_prf(average, modifier, msg_start, len(result))\n"
     ]
    },
    {
     "name": "stdout",
     "output_type": "stream",
     "text": [
      "                 precision    recall  f1-score   support\n",
      "\n",
      "       Adoption       0.55      0.89      0.68      4846\n",
      "Return to Owner       0.00      0.00      0.00       528\n",
      "       Transfer       0.00      0.00      0.00      1949\n",
      "         Foster       0.56      0.13      0.21       720\n",
      "     Euthanasia       0.75      0.76      0.76      5224\n",
      "\n",
      "       accuracy                           0.63     13267\n",
      "      macro avg       0.37      0.36      0.33     13267\n",
      "   weighted avg       0.53      0.63      0.56     13267\n",
      "\n"
     ]
    }
   ],
   "source": [
    "print(classification_report(y_cat_test2, X_cat_test2['y_pred'], target_names=target_names))"
   ]
  },
  {
   "cell_type": "markdown",
   "metadata": {},
   "source": [
    "## Random Forest Regression"
   ]
  },
  {
   "cell_type": "markdown",
   "metadata": {},
   "source": [
    "After attempting linear and polynomial regression and getting R^2 values of less than 20%, I learned about Random Forest Regression. It turned out to be the best model given this data set."
   ]
  },
  {
   "cell_type": "markdown",
   "metadata": {},
   "source": [
    "As outliers badly affected my R^2 value, I removed them from my dataset. This involved any dogs who have spent more than 100 days at the shelter, however this does mean that, we would find it very difficult to assess if any dog would stay more than that time frame."
   ]
  },
  {
   "cell_type": "code",
   "execution_count": 560,
   "metadata": {},
   "outputs": [],
   "source": [
    "## Remove outliers\n",
    "dog_train = dog_train[dog_train['Time Spent in Shelter'] < 100]\n",
    "dog_test = dog_test[dog_test['Time Spent in Shelter'] < 100]"
   ]
  },
  {
   "cell_type": "markdown",
   "metadata": {},
   "source": [
    "These are the columns used for regression modelling. I have left in the linear and polynomial regression columns in case of future use."
   ]
  },
  {
   "cell_type": "code",
   "execution_count": 561,
   "metadata": {},
   "outputs": [],
   "source": [
    "## Not used-for linear and poly regression\n",
    "dog_cols = ['Age in days upon income',\n",
    "       'Neutered', \n",
    "        'Mix', \n",
    "        #'itype_Euthanasia Request', \n",
    "        #'itype_Owner Surrender',\n",
    "       'itype_Public Assist', \n",
    "        #'itype_Stray', \n",
    "        #'icond_Medical', \n",
    "        #'icond_Normal',\n",
    "        #'icond_Other', \n",
    "        'sex_Male', \n",
    "        #'bcat_Herding', \n",
    "        #'bcat_Hound', \n",
    "        #'bcat_Racing',\n",
    "       'bcat_Sporting', \n",
    "        #'bcat_Terrier', \n",
    "        'bcat_Companion', \n",
    "        'bcat_Working',\n",
    "       'size_Large', \n",
    "        'size_Medium', \n",
    "        #'size_Small', \n",
    "        #'size_Toy', \n",
    "        'ccat_Dark',\n",
    "       'ccat_Light', \n",
    "        #'ccat_Merle', \n",
    "        'ccat_Red/Orangeish'\n",
    "       ]"
   ]
  },
  {
   "cell_type": "code",
   "execution_count": 562,
   "metadata": {},
   "outputs": [],
   "source": [
    "## Cat columns for random forest regression\n",
    "cat_cols = ['Age in days upon income',\n",
    "       'Neutered', \n",
    "        'Mix',\n",
    "        'itype_Euthanasia Request',\n",
    "        'itype_Owner Surrender',\n",
    "       'itype_Public Assist', \n",
    "        'itype_Stray', \n",
    "        'icond_Medical', \n",
    "        'icond_Normal',\n",
    "       'icond_Other', \n",
    "        'sex_Male', \n",
    "        'bcat_Long Hair', \n",
    "        'bcat_Short Hair',\n",
    "       'patt_Brindle', \n",
    "        'patt_Point', \n",
    "        'patt_Solid', \n",
    "        'patt_Striped',\n",
    "       'ccat_Blue/Greyish', \n",
    "        'ccat_Dark', \n",
    "        'ccat_Light', \n",
    "        'ccat_Red/Orangeish']"
   ]
  },
  {
   "cell_type": "code",
   "execution_count": 563,
   "metadata": {},
   "outputs": [],
   "source": [
    "## Dog columns for random forest regression\n",
    "cols4 = ['Age in days upon income',\n",
    "       'Neutered', \n",
    "        'Mix', \n",
    "        'itype_Euthanasia Request', \n",
    "        'itype_Owner Surrender',\n",
    "       'itype_Public Assist', \n",
    "        'itype_Stray', \n",
    "        'icond_Medical', \n",
    "        'icond_Normal',\n",
    "        'icond_Other', \n",
    "        'sex_Male', \n",
    "        'bcat_Herding', \n",
    "        'bcat_Hound', \n",
    "        'bcat_Racing',\n",
    "       'bcat_Sporting', \n",
    "        'bcat_Terrier', \n",
    "        'bcat_Companion', \n",
    "        'bcat_Working',\n",
    "       'size_Large', \n",
    "        'size_Medium', \n",
    "        'size_Small', \n",
    "        'size_Toy', \n",
    "        'ccat_Dark',\n",
    "       'ccat_Light', \n",
    "        'ccat_Merle', \n",
    "        'ccat_Red/Orangeish'\n",
    "       ]"
   ]
  },
  {
   "cell_type": "markdown",
   "metadata": {},
   "source": [
    "Only including data of adopted dogs, also helped the model significantly. Hence this model should only be used to see how long it would take for that dog to be adopted.\n",
    "\n",
    "Our x and y columns are also chosen here."
   ]
  },
  {
   "cell_type": "code",
   "execution_count": 564,
   "metadata": {},
   "outputs": [],
   "source": [
    "## Only using adoption data for testing how long it should take and picking feature cols.\n",
    "def fix_training_for_pr(df, cols):\n",
    "    '''Function to only provide adoption data and create X and y datasets.\n",
    "    \n",
    "    parameters:\n",
    "    - df: dataframe of dog or cat dataset\n",
    "    - cols: list of string values to be used for modelling\n",
    "    \n",
    "    output:\n",
    "    X and y datasets of adopted animals'''\n",
    "    X = df[df['Outcome Type'].isin(['Adoption'])].copy()  #,'Return to Owner','Foster'\n",
    "    y = X['Time Spent in Shelter']\n",
    "    X = X[cols]\n",
    "    return X, y"
   ]
  },
  {
   "cell_type": "code",
   "execution_count": 565,
   "metadata": {},
   "outputs": [],
   "source": [
    "X_dog_train_lr, y_dog_train_lr = fix_training_for_pr(dog_train, cols4)"
   ]
  },
  {
   "cell_type": "code",
   "execution_count": 566,
   "metadata": {},
   "outputs": [],
   "source": [
    "X_dog_test_lr, y_dog_test_lr = fix_training_for_pr(dog_test, cols4)"
   ]
  },
  {
   "cell_type": "code",
   "execution_count": 567,
   "metadata": {},
   "outputs": [],
   "source": [
    "X_cat_train_lr, y_cat_train_lr = fix_training_for_pr(cat_train, cat_cols)"
   ]
  },
  {
   "cell_type": "code",
   "execution_count": 568,
   "metadata": {},
   "outputs": [],
   "source": [
    "## pattern brindle does not exist in test\n",
    "cat_test['patt_Brindle'] = 0\n",
    "X_cat_test_lr, y_cat_test_lr = fix_training_for_pr(cat_test, cat_cols)"
   ]
  },
  {
   "cell_type": "code",
   "execution_count": 569,
   "metadata": {},
   "outputs": [
    {
     "name": "stdout",
     "output_type": "stream",
     "text": [
      "Train: 0.30051432865398586\n",
      "Test: 0.24674703092663874\n"
     ]
    },
    {
     "data": {
      "text/plain": [
       "1856915.6377096232"
      ]
     },
     "execution_count": 569,
     "metadata": {},
     "output_type": "execute_result"
    }
   ],
   "source": [
    "## Running the regressor\n",
    "dog_regressor = RandomForestRegressor(n_estimators = 500, random_state = 0, max_leaf_nodes = 80)#,max_depth = 5)\n",
    "dog_results = dog_regressor.fit(X_dog_train_lr, y_dog_train_lr)\n",
    "dog_pred = dog_regressor.predict(X_dog_train_lr)\n",
    "dog_pred_test = dog_regressor.predict(X_dog_test_lr)\n",
    "print(f'Train: {dog_results.score(X_dog_train_lr, y_dog_train_lr)}')\n",
    "print(f'Test: {dog_results.score(X_dog_test_lr, y_dog_test_lr)}')\n",
    "np.sum((y_dog_test_lr-dog_pred_test)**2)"
   ]
  },
  {
   "cell_type": "code",
   "execution_count": 570,
   "metadata": {},
   "outputs": [
    {
     "name": "stdout",
     "output_type": "stream",
     "text": [
      "Train: 0.30633260623469905\n",
      "Test: 0.25888971514932957\n"
     ]
    }
   ],
   "source": [
    "cat_regressor = RandomForestRegressor(n_estimators = 100, random_state = 0, max_leaf_nodes = 30)\n",
    "cat_results = cat_regressor.fit(X_cat_train_lr, y_cat_train_lr)\n",
    "cat_pred = cat_regressor.predict(X_cat_train_lr)\n",
    "cat_pred_test = cat_regressor.predict(X_cat_test_lr)\n",
    "print(f'Train: {cat_results.score(X_cat_train_lr, y_cat_train_lr)}')\n",
    "print(f'Test: {cat_results.score(X_cat_test_lr, y_cat_test_lr)}')"
   ]
  },
  {
   "cell_type": "markdown",
   "metadata": {},
   "source": [
    "### Miscellaneous regression graphs"
   ]
  },
  {
   "cell_type": "markdown",
   "metadata": {},
   "source": [
    "This plot shows that the count of the difference between real and prediction from the regression model does have a normal distribution, with the majority being around zero. \n",
    "\n",
    "The issue being that it tends quickly towards very small values, meaning it is skewed."
   ]
  },
  {
   "cell_type": "code",
   "execution_count": 571,
   "metadata": {},
   "outputs": [
    {
     "data": {
      "text/plain": [
       "<seaborn.axisgrid.FacetGrid at 0x28de8f04a90>"
      ]
     },
     "execution_count": 571,
     "metadata": {},
     "output_type": "execute_result"
    },
    {
     "data": {
      "image/png": "[encoded data removed]",
      "text/plain": [
       "<Figure size 360x360 with 1 Axes>"
      ]
     },
     "metadata": {
      "needs_background": "light"
     },
     "output_type": "display_data"
    }
   ],
   "source": [
    "sns.displot(dog_pred_test- y_dog_test_lr)"
   ]
  },
  {
   "cell_type": "markdown",
   "metadata": {},
   "source": [
    "This is a scatter plot showing the data used for regression modelling and it's lack of correlation. This is highly likely to be the reason for such a low correlation coefficient with the random forest regressor and other regression models."
   ]
  },
  {
   "cell_type": "code",
   "execution_count": 612,
   "metadata": {},
   "outputs": [
    {
     "data": {
      "text/plain": [
       "Text(0, 0.5, 'Time Spent in Shelter')"
      ]
     },
     "execution_count": 612,
     "metadata": {},
     "output_type": "execute_result"
    },
    {
     "data": {
      "image/png": "[encoded data removed]",
      "text/plain": [
       "<Figure size 432x288 with 1 Axes>"
      ]
     },
     "metadata": {
      "needs_background": "light"
     },
     "output_type": "display_data"
    }
   ],
   "source": [
    "## Age in days against time spent in shelter. \n",
    "## No correlation implies no linear regression.\n",
    "plt.scatter(X_dog_train_lr['Age in days upon income'], y_dog_train_lr)\n",
    "plt.xlabel('Age in days upon income')\n",
    "plt.ylabel('Time Spent in Shelter')"
   ]
  },
  {
   "cell_type": "markdown",
   "metadata": {},
   "source": [
    "## Final Function"
   ]
  },
  {
   "cell_type": "markdown",
   "metadata": {},
   "source": [
    "Finally, I have built the final function. This function asks and takes in data about a person's dog or cat and feeds them to the models above. It then gives you the outcome and if it were not for the inaccuracy of the regression model, would have also given an amount of time."
   ]
  },
  {
   "cell_type": "code",
   "execution_count": 598,
   "metadata": {},
   "outputs": [],
   "source": [
    "def dog_or_cat():\n",
    "    '''Function requesting input and calling another function.\n",
    "    \n",
    "    output:\n",
    "    calls another function given correct input or loops back'''\n",
    "    global dict_\n",
    "    dict_ = dict()\n",
    "    animal = input('Dog or cat?')\n",
    "    animal = animal.title()\n",
    "    if animal == 'Dog':\n",
    "        dog_function()\n",
    "    elif animal == 'Cat':\n",
    "        cat_function()\n",
    "    else:\n",
    "        print('Please pick either dog or cat.')\n",
    "        dog_or_cat()"
   ]
  },
  {
   "cell_type": "markdown",
   "metadata": {},
   "source": [
    "### Dog"
   ]
  },
  {
   "cell_type": "code",
   "execution_count": 577,
   "metadata": {},
   "outputs": [],
   "source": [
    "def age_calc():\n",
    "    '''Function requesting input and adding inputted value to dataframe, if input invalid, loop back.\n",
    "    \n",
    "    output:\n",
    "    inputs value into dataframe given correct input or loops back'''\n",
    "    age = input('Age (5 years/6 months/ 14 days): ')\n",
    "    if 'year' in age:\n",
    "        dict_['Age in days upon income'] = int(re.sub(r'\\syear[s]?', \"\", age))*365\n",
    "    elif 'month' in age:\n",
    "        dict_['Age in days upon income'] = int(re.sub(r'\\smonth[s]?', \"\", age))*30\n",
    "    elif 'week' in age:\n",
    "        dict_['Age in days upon income'] = int(re.sub(r'\\sweek[s]?','', age))*7\n",
    "    elif 'day' in age:\n",
    "        dict_['Age in days upon income'] = int(re.sub(r'\\sday[s]?','', age))\n",
    "    else:\n",
    "        print('Write age in 13 years, 6 months etc')\n",
    "        age_calc()"
   ]
  },
  {
   "cell_type": "code",
   "execution_count": 578,
   "metadata": {},
   "outputs": [],
   "source": [
    "def neutered_func():\n",
    "    '''Function requesting input and adding inputted value to dataframe, if input invalid, loop back.\n",
    "    \n",
    "    output:\n",
    "    inputs value into dataframe given correct input or loops back'''\n",
    "    boolean = input('Are they neutered (yes/no): ')\n",
    "    if boolean.lower() == 'yes':\n",
    "        dict_['Neutered'] = 1\n",
    "    elif boolean.lower() == 'no':\n",
    "        dict_['Neutered'] = 0\n",
    "    else:\n",
    "        print('Error please input yes or no.')\n",
    "        neutered_func()"
   ]
  },
  {
   "cell_type": "code",
   "execution_count": 579,
   "metadata": {},
   "outputs": [],
   "source": [
    "def mix_func():\n",
    "    '''Function requesting input and adding inputted value to dataframe, if input invalid, loop back.\n",
    "    \n",
    "    output:\n",
    "    inputs value into dataframe given correct input or loops back'''\n",
    "    boolean = input('Are they a cross breed? (yes/no): ')\n",
    "    if boolean.lower() == 'yes':\n",
    "        dict_['Mix'] = 1\n",
    "    elif boolean.lower() == 'no':\n",
    "        dict_['Mix'] = 0\n",
    "    else:\n",
    "        print('Error please input yes or no.')\n",
    "        mix_func()"
   ]
  },
  {
   "cell_type": "code",
   "execution_count": 580,
   "metadata": {},
   "outputs": [],
   "source": [
    "def itype_func():\n",
    "    '''Function requesting input and adding inputted value to dataframe, if input invalid, loop back.\n",
    "    \n",
    "    output:\n",
    "    inputs value into dataframe given correct input or loops back'''\n",
    "    itype = input('(Stray, Owner Surrender, Public Assist, Euthanasia Request, Abandoned):')\n",
    "    itype = itype.title()\n",
    "    dict_['itype_Stray'] = 0\n",
    "    dict_['itype_Owner Surrender'] = 0\n",
    "    dict_['itype_Public Assist'] = 0\n",
    "    dict_['itype_Euthanasia Request'] = 0\n",
    "    if itype == 'Stray':\n",
    "        dict_['itype_Stray'] = 1\n",
    "    elif itype == 'Owner Surrender':\n",
    "        dict_['itype_Owner Surrender'] = 1\n",
    "    elif itype == 'Public Assist':\n",
    "        dict_['itype_Public Assist'] = 1\n",
    "    elif itype == 'Euthanasia Request':\n",
    "        dict_['itype_Euthanasia Request'] = 1\n",
    "    elif itype == 'Abandoned':\n",
    "        pass\n",
    "    else:\n",
    "        print('Error print one of the given inputs')\n",
    "        itype_func()"
   ]
  },
  {
   "cell_type": "code",
   "execution_count": 581,
   "metadata": {},
   "outputs": [],
   "source": [
    "def icond_func():\n",
    "    '''Function requesting input and adding inputted value to dataframe, if input invalid, loop back.\n",
    "    \n",
    "    output:\n",
    "    inputs value into dataframe given correct input or loops back'''\n",
    "    icond = input('Normal, Medical, Other, Behavior: ')\n",
    "    icond = icond.title()\n",
    "    dict_['icond_Normal'] = 0\n",
    "    dict_['icond_Medical'] = 0\n",
    "    dict_['icond_Other'] = 0\n",
    "    if icond == 'Normal':\n",
    "        dict_['icond_Normal'] = 1\n",
    "    elif icond == 'Medical':\n",
    "        dict_['icond_Medical'] = 1\n",
    "    elif icond == 'Other':\n",
    "        dict_['icond_Other'] = 1\n",
    "    elif icond == 'Behavior':\n",
    "        pass\n",
    "    else:\n",
    "        print('Error print one of the given inputs')\n",
    "        icond_func()"
   ]
  },
  {
   "cell_type": "code",
   "execution_count": 582,
   "metadata": {},
   "outputs": [],
   "source": [
    "def m_or_f():\n",
    "    '''Function requesting input and adding inputted value to dataframe, if input invalid, loop back.\n",
    "    \n",
    "    output:\n",
    "    inputs value into dataframe given correct input or loops back'''\n",
    "    gender = input('Male or Female:')\n",
    "    if gender.lower() == 'male':\n",
    "        dict_['sex_Male'] = 1\n",
    "    elif gender.lower() == 'female':\n",
    "        dict_['sex_Male'] = 0\n",
    "    else:\n",
    "        print('Error please input male or female.')\n",
    "        m_or_f()"
   ]
  },
  {
   "cell_type": "code",
   "execution_count": 583,
   "metadata": {},
   "outputs": [],
   "source": [
    "def breed_dog_func():\n",
    "    '''Function requesting input and adding inputted value to dataframe, if input invalid, loop back.\n",
    "    \n",
    "    output:\n",
    "    inputs value into dataframe given correct input or loops back'''\n",
    "    breed = input('What breed is your dog:')\n",
    "    breed = breed.title()\n",
    "    dict_['bcat_Herding'] = 0\n",
    "    dict_['bcat_Hound'] = 0\n",
    "    dict_['bcat_Terrier'] = 0\n",
    "    dict_['bcat_Working'] = 0\n",
    "    dict_['bcat_Sporting'] = 0\n",
    "    dict_['bcat_Companion'] = 0\n",
    "    dict_['bcat_Racing'] = 0\n",
    "    dict_['size_Toy'] = 0\n",
    "    dict_['size_Small'] = 0\n",
    "    dict_['size_Medium'] = 0\n",
    "    dict_['size_Large'] = 0\n",
    "    if breed in Herding_dogs:\n",
    "        dict_['bcat_Herding'] = 1\n",
    "        size_breed_func(breed)\n",
    "    elif breed in Hound_dogs:\n",
    "        dict_['bcat_Hound'] = 1\n",
    "        size_breed_func(breed)\n",
    "    elif breed in Terriers:\n",
    "        dict_['bcat_Terrier'] = 1\n",
    "        size_breed_func(breed)\n",
    "    elif breed in Working_dogs:\n",
    "        dict_['bcat_Working'] = 1\n",
    "        size_breed_func(breed)\n",
    "    elif breed in Sporting_dogs:\n",
    "        dict_['bcat_Sporting'] = 1\n",
    "        size_breed_func(breed)\n",
    "    elif breed in Companions:\n",
    "        dict_['bcat_Companion'] = 1\n",
    "        size_breed_func(breed)\n",
    "    elif breed in Racing_dogs:\n",
    "        dict_['bcat_Racing'] = 1\n",
    "        size_breed_func(breed)\n",
    "    elif breed in Bull:\n",
    "        size_breed_func(breed)\n",
    "    else:\n",
    "        print('This dog is not a registered breed in our database')\n",
    "        breed_dog_cat_func()"
   ]
  },
  {
   "cell_type": "code",
   "execution_count": 584,
   "metadata": {},
   "outputs": [],
   "source": [
    "def breed_dog_cat_func():\n",
    "    '''Function requesting input and adding inputted value to dataframe, if input invalid, loop back.\n",
    "    \n",
    "    output:\n",
    "    inputs value into dataframe given correct input or loops back'''\n",
    "    breed = input('Categorise your pets breed (Companion, Herding, Hound, Terrier, Working, Sporting, Bull, Racing):')\n",
    "    if breed.title() == 'Herding':\n",
    "        dict_['bcat_Herding'] = 1\n",
    "    elif breed.title() == 'Hound':\n",
    "        dict_['bcat_Hound'] = 1\n",
    "    elif breed.title() == 'Terrier':\n",
    "        dict_['bcat_Terrier'] = 1\n",
    "    elif breed.title() == 'Working':\n",
    "        dict_['bcat_Working'] = 1\n",
    "    elif breed.title() == 'Sporting':\n",
    "        dict_['bcat_Sporting'] = 1\n",
    "    elif breed.title() == 'Companion':\n",
    "        dict_['bcat_Companion'] = 1\n",
    "    elif breed.title() == 'Racing':\n",
    "        dict_['bcat_Racing'] = 1\n",
    "    elif breed.title() == 'Bull':\n",
    "        pass\n",
    "    else:\n",
    "        print('Please pick a category from the list.')\n",
    "        breed_dog_cat_func()"
   ]
  },
  {
   "cell_type": "code",
   "execution_count": 585,
   "metadata": {},
   "outputs": [],
   "source": [
    "def size_breed_func(breed):\n",
    "    '''Function requesting input and adding inputted value to dataframe, if input invalid, loop back.\n",
    "    \n",
    "    output:\n",
    "    inputs value into dataframe given correct input or loops back'''\n",
    "    if breed in toy:\n",
    "        dict_['size_Toy'] = 1\n",
    "    elif breed in small:\n",
    "        dict_['size_Small'] = 1\n",
    "    elif breed in medium:\n",
    "        dict_['size_Medium'] = 1\n",
    "    elif breed in large:\n",
    "        dict_['size_Large'] = 1\n",
    "    elif breed in giant:\n",
    "        pass"
   ]
  },
  {
   "cell_type": "code",
   "execution_count": 586,
   "metadata": {},
   "outputs": [],
   "source": [
    "def size_func():\n",
    "    '''Function requesting input and adding inputted value to dataframe, if input invalid, loop back.\n",
    "    \n",
    "    output:\n",
    "    inputs value into dataframe given correct input or loops back'''\n",
    "    size = input('What size is your dog: ')\n",
    "    if size.title() == 'Toy':\n",
    "        dict_['size_Toy'] = 1\n",
    "    elif size.title() == 'Small':\n",
    "        dict_['size_Small'] = 1\n",
    "    elif size.title() == 'Medium':\n",
    "        dict_['size_Medium'] = 1\n",
    "    elif size.title() == 'Large':\n",
    "        dict_['size_Large'] = 1\n",
    "    elif size.title() == 'Giant':\n",
    "        pass\n",
    "    else:\n",
    "        print('Please pick a category from the list.')\n",
    "        size_func()"
   ]
  },
  {
   "cell_type": "code",
   "execution_count": 587,
   "metadata": {},
   "outputs": [],
   "source": [
    "def dog_color_func():\n",
    "    '''Function requesting input and adding inputted value to dataframe, if input invalid, loop back.\n",
    "    \n",
    "    output:\n",
    "    inputs value into dataframe given correct input or loops back'''\n",
    "    color = input('What is the main colour of your dog:')\n",
    "    dict_['ccat_Dark'] = 0\n",
    "    dict_['ccat_Light'] = 0\n",
    "    dict_['ccat_Merle'] = 0\n",
    "    dict_['ccat_Red/Orangeish'] = 0\n",
    "    if color.title() in dark_dog:\n",
    "        dict_['ccat_Dark'] = 1\n",
    "    elif color.title() in light_dog:\n",
    "        dict_['ccat_Light'] = 1\n",
    "    elif color.title() in merle_dog:\n",
    "        dict_['ccat_Merle'] = 1\n",
    "    elif color.title() in red_orange_dog:\n",
    "        dict_['ccat_Red/Orangeish'] = 1\n",
    "    elif color.title() in blue_grey_dog:\n",
    "        pass\n",
    "    else:\n",
    "        print('This color is not registered in our database.')\n",
    "        dog_color_cat_func()"
   ]
  },
  {
   "cell_type": "code",
   "execution_count": 588,
   "metadata": {},
   "outputs": [],
   "source": [
    "def dog_color_cat_func():\n",
    "    '''Function requesting input and adding inputted value to dataframe, if input invalid, loop back.\n",
    "    \n",
    "    output:\n",
    "    inputs value into dataframe given correct input or loops back'''\n",
    "    color = input('Please categorise your dogs color (Dark, Light, Merle, Red/Orange, Blue/Grey): ')\n",
    "    color = color.title()\n",
    "    if color == 'Dark':\n",
    "        dict_['ccat_Dark'] = 1\n",
    "    elif color == 'Light':\n",
    "        dict_['ccat_Light'] = 1\n",
    "    elif color == 'Merle':\n",
    "        dict_['ccat_Merle'] = 1\n",
    "    elif color == 'Red/Orange':\n",
    "        dict_['ccat_Red/Orangeish'] = 1\n",
    "    elif color == 'Blue/Grey':\n",
    "        pass\n",
    "    else:\n",
    "        print('Please pick a category from the list.')\n",
    "        dog_color_cat_func()"
   ]
  },
  {
   "cell_type": "code",
   "execution_count": 589,
   "metadata": {},
   "outputs": [],
   "source": [
    "def outcome_func(pred):\n",
    "    '''Function matching model output to value and printing.\n",
    "    \n",
    "    output:\n",
    "    prints a string'''\n",
    "    if pred == 'Adopted':\n",
    "        print('Adopted')\n",
    "    elif pred == 'Return to Owner':\n",
    "        print('Returned to owner')\n",
    "    elif pred == 'Foster':\n",
    "        print('Fostered')\n",
    "    elif pred == 'Transfer':\n",
    "        print('Transferred')\n",
    "    elif pred == 'Euthanasia':\n",
    "        print('Euthanized')\n",
    "    else:\n",
    "        print('Something has gone wrong.')"
   ]
  },
  {
   "cell_type": "markdown",
   "metadata": {},
   "source": [
    "This function brings together everything taken in from the functions above and turns it into a single line database. It then feeds this database to the 2 and 5 outcome models."
   ]
  },
  {
   "cell_type": "code",
   "execution_count": 590,
   "metadata": {},
   "outputs": [],
   "source": [
    "def dog_function():\n",
    "    '''Function calling other functions and creating a dataframe from functions outputs. Finally printing it's own output.\n",
    "    \n",
    "    output:\n",
    "    prints output based on models predicted values'''\n",
    "    age_calc()\n",
    "    neutered_func()\n",
    "    mix_func()\n",
    "    itype_func()\n",
    "    icond_func()\n",
    "    m_or_f()\n",
    "    breed_dog_func()\n",
    "    dog_color_func()\n",
    "    \n",
    "    df = pd.DataFrame([dict_])\n",
    "    dog_pred = dog_model.predict(df)\n",
    "    dog_pred2 = dog_model2.predict(df)\n",
    "    if dog_pred == 1 and dog_pred2 in ['Adopted', 'Foster', 'Return to Owner']:\n",
    "        print('This dog will either be adopted, fostered or returned to their owner.')\n",
    "        print('This dog will likely be:')\n",
    "        outcome_func(dog_pred2)\n",
    "        ## If regression model had been more accurate, I would have used this\n",
    "        #print('If this dog was to be adopted it would take:')\n",
    "        #df['Age in days upon income'] = scaler_dog.transform(df[scaler_dog_cols])\n",
    "        #dog_time_pred = dog_regressor.predict(df)\n",
    "        #print(f'{round(dog_time_pred[0],0)} days.')\n",
    "        #return df\n",
    "    else:\n",
    "        print('Unfortunately, this dog will have to be transferred or euthanised.')"
   ]
  },
  {
   "cell_type": "markdown",
   "metadata": {},
   "source": [
    "### Cat"
   ]
  },
  {
   "cell_type": "code",
   "execution_count": 591,
   "metadata": {},
   "outputs": [],
   "source": [
    "def breed_cat_func():\n",
    "    '''Function requesting input and adding inputted value to dataframe, if input invalid, loop back.\n",
    "    \n",
    "    output:\n",
    "    inputs value into dataframe given correct input or loops back'''\n",
    "    breed = input('What breed is your cat:')\n",
    "    breed = breed.title()\n",
    "    dict_['bcat_Long Hair'] = 0\n",
    "    dict_['bcat_Short Hair'] = 0\n",
    "    if breed in short_hair:\n",
    "        dict_['bcat_Short Hair'] = 1\n",
    "    elif breed in long_hair:\n",
    "        dict_['bcat_Long Hair'] = 1\n",
    "    elif breed in hairless:\n",
    "        pass\n",
    "    else:\n",
    "        print('This cat is not a registered breed in our database')\n",
    "        breed_cat_cat_func()"
   ]
  },
  {
   "cell_type": "code",
   "execution_count": 592,
   "metadata": {},
   "outputs": [],
   "source": [
    "def breed_cat_cat_func():\n",
    "    '''Function requesting input and adding inputted value to dataframe, if input invalid, loop back.\n",
    "    \n",
    "    output:\n",
    "    inputs value into dataframe given correct input or loops back'''\n",
    "    breed = input('Categorise your pets breed (Long Hair, Short Hair, Hairless):')\n",
    "    if breed.title() == 'Long Hair':\n",
    "        dict_['bcat_Long Hair'] = 1\n",
    "    elif breed.title() == 'Short Hair':\n",
    "        dict_['bcat_Short Hair'] = 1\n",
    "    elif breed.title() == 'Hairless':\n",
    "        pass\n",
    "    else:\n",
    "        print('Please pick a category from the list.')\n",
    "        breed_cat_cat_func()"
   ]
  },
  {
   "cell_type": "code",
   "execution_count": 593,
   "metadata": {},
   "outputs": [],
   "source": [
    "def cat_color_func():\n",
    "    '''Function requesting input and adding inputted value to dataframe, if input invalid, loop back.\n",
    "    \n",
    "    output:\n",
    "    inputs value into dataframe given correct input or loops back'''\n",
    "    color = input('What is the main colour of your cat:')\n",
    "    dict_['ccat_Dark'] = 0\n",
    "    dict_['ccat_Light'] = 0\n",
    "    dict_['ccat_Blue/Greyish'] = 0\n",
    "    dict_['ccat_Red/Orangeish'] = 0\n",
    "    if color.title() in dark_cat:\n",
    "        dict_['ccat_Dark'] = 1\n",
    "    elif color.title() in light_cat:\n",
    "        dict_['ccat_Light'] = 1\n",
    "    elif color.title() in blue_grey_cat:\n",
    "        dict_['ccat_Blue/Greyish'] = 1\n",
    "    elif color.title() in red_orange_cat:\n",
    "        dict_['ccat_Red/Orangeish'] = 1\n",
    "    elif color.title() in black_orange_white_cat:\n",
    "        pass\n",
    "    else:\n",
    "        print('This color is not registered in our database.')\n",
    "        cat_color_cat_func()"
   ]
  },
  {
   "cell_type": "code",
   "execution_count": 594,
   "metadata": {},
   "outputs": [],
   "source": [
    "def cat_color_cat_func():\n",
    "    '''Function requesting input and adding inputted value to dataframe, if input invalid, loop back.\n",
    "    \n",
    "    output:\n",
    "    inputs value into dataframe given correct input or loops back'''\n",
    "    color = input(\"Please categorise your cat's color (Dark, Light, Black Orange and White, Red/Orange, Blue/Grey): \")\n",
    "    color = color.title()\n",
    "    if color == 'Dark':\n",
    "        dict_['ccat_Dark'] = 1\n",
    "    elif color == 'Light':\n",
    "        dict_['ccat_Light'] = 1\n",
    "    elif color == 'Blue/Grey':\n",
    "        dict_['ccat_Blue/Greyish'] = 1\n",
    "    elif color == 'Red/Orange':\n",
    "        dict_['ccat_Red/Orangeish'] = 1\n",
    "    elif color == 'Black Orange And White':\n",
    "        pass\n",
    "    else:\n",
    "        print('Please pick a category from the list.')\n",
    "        dog_color_cat_func()"
   ]
  },
  {
   "cell_type": "code",
   "execution_count": 595,
   "metadata": {},
   "outputs": [],
   "source": [
    "def cat_pattern():\n",
    "    '''Function requesting input and adding inputted value to dataframe, if input invalid, loop back.\n",
    "    \n",
    "    output:\n",
    "    inputs value into dataframe given correct input or loops back'''\n",
    "    dict_['patt_Brindle'] = 0\n",
    "    dict_['patt_Point'] = 0\n",
    "    dict_['patt_Solid'] = 0\n",
    "    dict_['patt_Striped'] = 0\n",
    "    pattern = input(\"Please categorise your cat's fur pattern (Brindle, Point, Solid,  Striped, 2 color): \")\n",
    "    pattern = pattern.title()\n",
    "    if pattern == 'Brindle':\n",
    "        dict_['patt_Brindle'] = 1\n",
    "    elif pattern == 'Point':\n",
    "        dict_['patt_Point'] = 1\n",
    "    elif pattern == 'Solid':\n",
    "        dict_['patt_Solid'] = 1\n",
    "    elif pattern == 'Striped': \n",
    "        dict_['patt_Striped'] = 1\n",
    "    elif pattern == '2 color':\n",
    "        pass\n",
    "    else:\n",
    "        print('Please pick a category from the list.')\n",
    "        cat_pattern()"
   ]
  },
  {
   "cell_type": "code",
   "execution_count": 596,
   "metadata": {},
   "outputs": [],
   "source": [
    "def cat_function():\n",
    "    '''Function calling other functions and creating a dataframe from functions outputs. Finally printing it's own output.\n",
    "    \n",
    "    output:\n",
    "    prints output based on models predicted values'''\n",
    "    age_calc()\n",
    "    neutered_func()\n",
    "    mix_func()\n",
    "    itype_func()\n",
    "    icond_func()\n",
    "    m_or_f()\n",
    "    breed_cat_func()\n",
    "    cat_color_func()\n",
    "    cat_pattern()\n",
    "    \n",
    "    df = pd.DataFrame([dict_])\n",
    "    cat_pred = cat_model.predict(df)\n",
    "    cat_pred2 = cat_model2.predict(df)\n",
    "    if cat_pred == 1 and cat_pred2 in ['Adopted', 'Foster', 'Return to Owner']:\n",
    "        print('This cat will either be adopted, fostered or returned to the owner.')\n",
    "        print('It will likely be:')\n",
    "        outcome_func(cat_pred2)\n",
    "        ## If regression had been more accurate, I would have used this.\n",
    "        #print('If this cat was to be adopted it would take:')\n",
    "        #df['Age in days upon income'] = scaler_cat.transform(df[scaler_cat_cols])\n",
    "        #cat_time_pred = cat_regressor.predict(df)\n",
    "        #print(f'{int(cat_time_pred[0])} days.')\n",
    "        #return df\n",
    "    else:\n",
    "        print('Unfortunately, this cat will have to be transferred or euthanised.')\n",
    "        print('It will likely be:')\n",
    "        outcome_func(cat_pred2)"
   ]
  },
  {
   "cell_type": "markdown",
   "metadata": {},
   "source": [
    "## Run code"
   ]
  },
  {
   "cell_type": "markdown",
   "metadata": {},
   "source": [
    "You can run the code here and see the data below that is fed to the models."
   ]
  },
  {
   "cell_type": "code",
   "execution_count": 609,
   "metadata": {},
   "outputs": [
    {
     "name": "stdin",
     "output_type": "stream",
     "text": [
      "Dog or cat? dog\n",
      "Age (5 years/6 months/ 14 days):  4 years\n",
      "Are they neutered (yes/no):  no\n",
      "Are they a cross breed? (yes/no):  no\n",
      "(Stray, Owner Surrender, Public Assist, Euthanasia Request, Abandoned): stray\n",
      "Normal, Medical, Other, Behavior:  normal\n",
      "Male or Female: male\n",
      "What breed is your dog: labrador retriever\n",
      "What is the main colour of your dog: chocolate\n"
     ]
    },
    {
     "name": "stdout",
     "output_type": "stream",
     "text": [
      "This dog will either be adopted, fostered or returned to their owner.\n",
      "This dog will likely be:\n",
      "Returned to owner\n"
     ]
    }
   ],
   "source": [
    "dog_or_cat()"
   ]
  },
  {
   "cell_type": "code",
   "execution_count": 604,
   "metadata": {},
   "outputs": [
    {
     "data": {
      "text/plain": [
       "{'Age in days upon income': 1095,\n",
       " 'Neutered': 0,\n",
       " 'Mix': 0,\n",
       " 'itype_Stray': 1,\n",
       " 'itype_Owner Surrender': 0,\n",
       " 'itype_Public Assist': 0,\n",
       " 'itype_Euthanasia Request': 0,\n",
       " 'icond_Normal': 1,\n",
       " 'icond_Medical': 0,\n",
       " 'icond_Other': 0,\n",
       " 'sex_Male': 1,\n",
       " 'bcat_Herding': 0,\n",
       " 'bcat_Hound': 0,\n",
       " 'bcat_Terrier': 0,\n",
       " 'bcat_Working': 0,\n",
       " 'bcat_Sporting': 1,\n",
       " 'bcat_Companion': 0,\n",
       " 'bcat_Racing': 0,\n",
       " 'size_Toy': 0,\n",
       " 'size_Small': 0,\n",
       " 'size_Medium': 0,\n",
       " 'size_Large': 1,\n",
       " 'ccat_Dark': 0,\n",
       " 'ccat_Light': 1,\n",
       " 'ccat_Merle': 0,\n",
       " 'ccat_Red/Orangeish': 0}"
      ]
     },
     "execution_count": 604,
     "metadata": {},
     "output_type": "execute_result"
    }
   ],
   "source": [
    "dict_"
   ]
  },
  {
   "cell_type": "markdown",
   "metadata": {},
   "source": [
    "## Conclusion"
   ]
  },
  {
   "cell_type": "markdown",
   "metadata": {},
   "source": [
    "From this project, I have learned a lot, not only about the behaviours of people towards pets, but also about new data science techniques and model improvement. \n",
    "\n",
    "As shown by my models, although one may be able to predict a dog or cat's outcome based on its provided data, it is a lot more difficult (even impossible) to predict the length of time it would spend in the shelter. "
   ]
  },
  {
   "cell_type": "code",
   "execution_count": null,
   "metadata": {},
   "outputs": [],
   "source": []
  }
 ],
 "metadata": {
  "kernelspec": {
   "display_name": "Python 3",
   "language": "python",
   "name": "python3"
  },
  "language_info": {
   "codemirror_mode": {
    "name": "ipython",
    "version": 3
   },
   "file_extension": ".py",
   "mimetype": "text/x-python",
   "name": "python",
   "nbconvert_exporter": "python",
   "pygments_lexer": "ipython3",
   "version": "3.8.5"
  }
 },
 "nbformat": 4,
 "nbformat_minor": 4
}
